{
 "cells": [
  {
   "cell_type": "markdown",
   "id": "4a041bba",
   "metadata": {},
   "source": [
    "# How to Search and Load GES DISC Cloud OPeNDAP Collections\n",
    "### Author: Chris Battisto\n",
    "### Date Authored: 05-20-2025\n",
    "\n",
    "### Timing\n",
    "\n",
    "Exercise: 5 minutes\n",
    "\n",
    "### Overview\n",
    "\n",
    "This notebook demonstrates how to search and load Cloud OPeNDAP-enabled collections and granules using the `earthaccess` and `requests` libraries. It demonstrates how to search for GES DISC Cloud-OPeNDAP enabled collections by querying the [Common Metadata Repository (CMR) API](https://cmr.earthdata.nasa.gov/search/), and then demonstrates how to load a single granule from that Cloud OPeNDAP-enabled collection. \n",
    "\n",
    "### Prerequisites\n",
    "\n",
    "This notebook was written using Python 3.10, and requires:\n",
    "- Valid [Earthdata Login credentials](https://urs.earthdata.nasa.gov), and the generation of [Earthdata Prerequisite Files](https://disc.gsfc.nasa.gov/information/howto?title=How%20to%20Generate%20Earthdata%20Prerequisite%20Files) including the <code>.netrc</code> and `.dodsrc` files.\n",
    "- [Xarray](https://docs.xarray.dev/en/stable/)\n",
    "- [certifi](https://pypi.org/project/certifi/)\n",
    "- [requests](https://pypi.org/project/requests/)\n",
    "- [earthaccess](https://earthaccess.readthedocs.io/en/latest/)\n",
    "\n",
    "#### Optional Anaconda Environment YAML:\n",
    "\n",
    "This notebook can be run using the ['opendap' YAML file](https://github.com/nasa/gesdisc-tutorials/tree/main/environments/opendap.yml) provided in the 'environments' subfolder.\n",
    "\n",
    "Please follow the instructions [here](https://conda.io/projects/conda/en/latest/user-guide/tasks/manage-environments.html#creating-an-environment-from-an-environment-yml-file) to install and activate this environment. "
   ]
  },
  {
   "cell_type": "markdown",
   "id": "7f1f8073",
   "metadata": {},
   "source": [
    "### Import Libraries"
   ]
  },
  {
   "cell_type": "code",
   "execution_count": null,
   "id": "d68ade5c",
   "metadata": {
    "vscode": {
     "languageId": "plaintext"
    }
   },
   "outputs": [],
   "source": [
    "import certifi\n",
    "from datetime import datetime\n",
    "import json\n",
    "import netrc\n",
    "import requests\n",
    "import urllib3"
   ]
  },
  {
   "cell_type": "markdown",
   "id": "3502e21e",
   "metadata": {},
   "source": [
    "### Create Function to Retrieve Collections"
   ]
  },
  {
   "cell_type": "code",
   "execution_count": null,
   "id": "71e86e0e",
   "metadata": {
    "vscode": {
     "languageId": "plaintext"
    }
   },
   "outputs": [],
   "source": [
    "def getCollections(env, token, page_size, page_num):\n",
    "    ''' CMR Search for all GESDISC Collections '''\n",
    "    daac='GES_DISC'\n",
    "    params = {'provider':daac,\n",
    "              'page_size':page_size, # Must be 2000 or less\n",
    "              'page_num':page_num,  \n",
    "              'token': token,\n",
    "             }\n",
    "    searchUrl = getUrl(env,'collections.umm_json',params)\n",
    "    collRecords = getResult(searchUrl)\n",
    "    return collRecords"
   ]
  },
  {
   "cell_type": "markdown",
   "id": "5a7efaf8",
   "metadata": {},
   "source": []
  }
 ],
 "metadata": {
  "language_info": {
   "name": "python"
  }
 },
 "nbformat": 4,
 "nbformat_minor": 5
}
