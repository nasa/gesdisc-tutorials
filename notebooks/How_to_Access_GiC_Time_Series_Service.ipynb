{
 "cells": [
  {
   "cell_type": "markdown",
   "id": "efficient-share",
   "metadata": {},
   "source": [
    "# How to Access the \"Giovanni in the Cloud: Time Series\" Service Using Python\n",
    "\n",
    "### Date Authored: 03-04-2024\n",
    "\n",
    "### Timing\n",
    "\n",
    "Exercise: 5 minutes\n",
    "\n",
    "### Overview\n",
    "\n",
    "This notebook demonstrates how to access the \"Giovanni in the Cloud: Time Series\" service via Python. It demonstrates how to retrieve a token from the service, set parameters including bounding boxes and duration, and plot a sample time series using `matplotlib`. Here, the sample time series plotted is 3-hourly [GLDAS Noah Land Surface Model L4 3 hourly 0.25 x 0.25 degree V2.1 (GLDAS_NOAH025_3H)](https://disc.gsfc.nasa.gov/datasets/GLDAS_NOAH025_3H_2.1/summary?keywords=GLDAS_NOAH025_3H_2_1_Tair_f_inst) temperature over a grid in Benton Township, South Dakota, between January and October 2000-2020.\n",
    "\n",
    "### Prerequisites\n",
    "\n",
    "This notebook was written using Python 3.10, and requires:\n",
    "- Valid [Earthdata Login credentials](https://urs.earthdata.nasa.gov), and the generation of [Earthdata Prerequisite Files](https://disc.gsfc.nasa.gov/information/howto?title=How%20to%20Generate%20Earthdata%20Prerequisite%20Files) including the <code>.netrc</code> and `.dodsrc` files.\n",
    "- [NumPy](https://numpy.org/)\n",
    "- [Pandas](https://pandas.pydata.org/)\n",
    "- [Matplotlib](https://matplotlib.org/)\n"
   ]
  },
  {
   "cell_type": "markdown",
   "id": "attended-costs",
   "metadata": {},
   "source": [
    "## 1. Import Libraries"
   ]
  },
  {
   "cell_type": "code",
   "execution_count": 1,
   "id": "similar-company",
   "metadata": {},
   "outputs": [],
   "source": [
    "import netrc\n",
    "import requests\n",
    "from requests.auth import HTTPBasicAuth\n",
    "import os\n",
    "import io\n",
    "import pandas\n",
    "import numpy as np\n",
    "import matplotlib.pyplot as plt\n",
    "%matplotlib inline"
   ]
  },
  {
   "cell_type": "markdown",
   "id": "functioning-greece",
   "metadata": {},
   "source": [
    "## 2. Store the Token Endpoint URLs "
   ]
  },
  {
   "cell_type": "code",
   "execution_count": 2,
   "id": "handed-crowd",
   "metadata": {},
   "outputs": [],
   "source": [
    "# Setup the signin and time series URLs\n",
    "signin_url = \"https://api.giovanni.earthdata.nasa.gov/signin\"\n",
    "time_series_url = \"https://api.giovanni.earthdata.nasa.gov/timeseries\"\n"
   ]
  },
  {
   "cell_type": "markdown",
   "id": "musical-flash",
   "metadata": {},
   "source": [
    "## 3. Store Parameters\n",
    "\n",
    "Look at 20 years of 3-hourly temperature data over 45.125N,98.125W, which is in Benton Township, South Dakota."
   ]
  },
  {
   "cell_type": "code",
   "execution_count": 3,
   "id": "precious-profession",
   "metadata": {},
   "outputs": [],
   "source": [
    "lat = 45.125\n",
    "lon = -98.125\n",
    "time_start = \"2000-01-01T03:00:00\"\n",
    "time_end = \"2020-09-30T21:00:00\"\n",
    "data = \"GLDAS_NOAH025_3H_2_1_Tair_f_inst\""
   ]
  },
  {
   "cell_type": "markdown",
   "id": "ideal-revision",
   "metadata": {},
   "source": [
    "## 4. Retrieve Token\n",
    "\n",
    "We will use the Earthdata Login credentials stored in our local `netrc` file to retrieve a token. The token is valid for 24 hours, so we can actually use the same token repeatedly.\n",
    "\n",
    "To create a `.netrc` file, please use this guide: [How to Generate Earthdata Prerequisite Files](https://disc.gsfc.nasa.gov/information/howto?keywords=prerequisite&title=How%20to%20Generate%20Earthdata%20Prerequisite%20Files)"
   ]
  },
  {
   "cell_type": "code",
   "execution_count": 4,
   "id": "mechanical-council",
   "metadata": {},
   "outputs": [],
   "source": [
    "token = requests.get(signin_url, auth=HTTPBasicAuth(netrc.netrc().hosts['urs.earthdata.nasa.gov'][0], \n",
    "                                                    netrc.netrc().hosts['urs.earthdata.nasa.gov'][2]),\n",
    "                     allow_redirects=True).text.replace('\"','')\n"
   ]
  },
  {
   "cell_type": "markdown",
   "id": "checked-wealth",
   "metadata": {},
   "source": [
    "## 5. Define a Function That Calls the Time Series Service"
   ]
  },
  {
   "cell_type": "code",
   "execution_count": 5,
   "id": "precious-harbor",
   "metadata": {
    "metadata": {}
   },
   "outputs": [],
   "source": [
    "def call_time_series(lat,lon,time_start,time_end,data):\n",
    "    \"\"\"\n",
    "    INPUTS:\n",
    "    lat - latitude\n",
    "    lon - longitude\n",
    "    time_start - start of time series in YYYY-MM-DDThh:mm:ss format (UTC)\n",
    "    end_time - end of the time series in YYYY-MM-DDThh:mm:ss format (UTC)\n",
    "    data - name of the data parameter for the time series\n",
    "    \n",
    "    OUTPUT:\n",
    "    time series csv output string\n",
    "    \"\"\"\n",
    "    query_parameters = {\n",
    "        \"data\":data,\n",
    "        \"location\":\"[{},{}]\".format(lat,lon),\n",
    "        \"time\":\"{}/{}\".format(time_start,time_end)\n",
    "    }\n",
    "    headers = {\"authorizationtoken\":token}\n",
    "    response=requests.get(time_series_url,params=query_parameters,headers=headers)\n",
    "    return response.text\n"
   ]
  },
  {
   "cell_type": "markdown",
   "id": "processed-crossing",
   "metadata": {},
   "source": [
    "## 6. Define a Function That Parses the Response From the Time Series Service\n",
    "\n",
    "This will return the headers from the CSV as a Python dictionary, and the values formatted as a Pandas dataframe."
   ]
  },
  {
   "cell_type": "code",
   "execution_count": 6,
   "id": "requested-laugh",
   "metadata": {
    "metadata": {}
   },
   "outputs": [],
   "source": [
    "def parse_csv(ts):\n",
    "    \"\"\"\n",
    "    INPUTS:\n",
    "    ts - time series output of the time series service\n",
    "    \n",
    "    OUTPUTS:\n",
    "    headers,df - the headers from the CSV as a dict and the values in a pandas dataframe\n",
    "    \"\"\"\n",
    "    with io.StringIO(ts) as f:\n",
    "        # the first 13 rows are header\n",
    "        headers = {}\n",
    "        for i in range(13):\n",
    "            line = f.readline()\n",
    "            key,value = line.split(\",\")\n",
    "            headers[key] = value.strip()\n",
    "\n",
    "        # Read the csv proper\n",
    "        df = pandas.read_csv(\n",
    "            f,\n",
    "            header=1,\n",
    "            names=(\"Timestamp\",headers[\"param_name\"]),\n",
    "            converters={\"Timestamp\":pandas.Timestamp}\n",
    "        )\n",
    "\n",
    "    return headers, df"
   ]
  },
  {
   "cell_type": "markdown",
   "id": "competitive-separation",
   "metadata": {},
   "source": [
    "## 7. Call the Time Series Service\n",
    "\n",
    "The response will be stored in a variable called `df`."
   ]
  },
  {
   "cell_type": "code",
   "execution_count": 7,
   "id": "employed-worry",
   "metadata": {
    "metadata": {},
    "scrolled": false
   },
   "outputs": [
    {
     "name": "stdout",
     "output_type": "stream",
     "text": [
      "CPU times: user 16.9 ms, sys: 7 ms, total: 23.9 ms\n",
      "Wall time: 13.7 s\n"
     ]
    }
   ],
   "source": [
    "%%time\n",
    "ts = call_time_series(lat,lon,time_start,time_end,data)\n"
   ]
  },
  {
   "cell_type": "markdown",
   "id": "therapeutic-constraint",
   "metadata": {},
   "source": [
    "## 8. Parse the output"
   ]
  },
  {
   "cell_type": "code",
   "execution_count": 8,
   "id": "closed-plant",
   "metadata": {
    "metadata": {}
   },
   "outputs": [
    {
     "name": "stdout",
     "output_type": "stream",
     "text": [
      "            Timestamp  Near surface air temperature\n",
      "0 2000-01-01 03:00:00                       274.663\n",
      "1 2000-01-01 06:00:00                       271.324\n",
      "2 2000-01-01 09:00:00                       269.039\n",
      "3 2000-01-01 12:00:00                       268.380\n",
      "4 2000-01-01 15:00:00                       267.331\n"
     ]
    }
   ],
   "source": [
    "headers,df = parse_csv(ts)\n",
    "print(df.head())"
   ]
  },
  {
   "cell_type": "markdown",
   "id": "elegant-faculty",
   "metadata": {},
   "source": [
    "## 9. Plot Results"
   ]
  },
  {
   "cell_type": "code",
   "execution_count": 10,
   "id": "olive-english",
   "metadata": {
    "metadata": {}
   },
   "outputs": [
    {
     "data": {
      "text/plain": [
       "Text(0.5, 1.0, 'GLDAS_NOAH025_3H_2_1_Tair_f_inst at [45.125,-98.125]')"
      ]
     },
     "execution_count": 10,
     "metadata": {},
     "output_type": "execute_result"
    },
    {
     "data": {
      "image/png": "[encoded data removed]",
      "text/plain": [
       "<Figure size 640x480 with 1 Axes>"
      ]
     },
     "metadata": {},
     "output_type": "display_data"
    }
   ],
   "source": [
    "ax = plt.gca()\n",
    "df.plot(x=\"Timestamp\",y=headers[\"param_name\"],ax=ax)\n",
    "ax.set_ylabel(headers[\"unit\"])\n",
    "ax.set_title(\"{} at [{},{}]\".format(data,headers[\"lat\"],headers[\"lon\"]))"
   ]
  }
 ],
 "metadata": {
  "kernelspec": {
   "display_name": "Python 3 (ipykernel)",
   "language": "python",
   "name": "python3"
  },
  "language_info": {
   "codemirror_mode": {
    "name": "ipython",
    "version": 3
   },
   "file_extension": ".py",
   "mimetype": "text/x-python",
   "name": "python",
   "nbconvert_exporter": "python",
   "pygments_lexer": "ipython3",
   "version": "3.10.15"
  }
 },
 "nbformat": 4,
 "nbformat_minor": 5
}
