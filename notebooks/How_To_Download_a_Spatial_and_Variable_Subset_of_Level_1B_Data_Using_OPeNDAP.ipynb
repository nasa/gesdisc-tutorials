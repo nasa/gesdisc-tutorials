{
 "cells": [
  {
   "cell_type": "markdown",
   "metadata": {},
   "source": [
    "# How to Download a Spatial and Variable Subset of Level 1B Data using OPeNDAP\n",
    "\n",
    "### Date Authored: 04-25-2024\n",
    "\n",
    "### Timing\n",
    "\n",
    "Exercise: 5 minutes\n",
    "\n",
    "### Overview:\n",
    "\n",
    "Downloading one full orbit of [OCO-2 Level 1B calibrated, geolocated science spectra, Retrospective Processing V11r (OCO2_L1B_Science)](https://disc.gsfc.nasa.gov/datasets/OCO2_L1B_Science_11r/summary?keywords=OCO2_L1B_Science.11r) data from the GES DISC can take more than 10 minutes even over a fast internet connection. However, a small spatial and variable subset of OCO-2 radiances can take seconds to download rather than minutes. This notebook describes how to access granules in a region of interest and read just the Longitude and Latitude from the file to find the indices for the desired geographic region, using OPeNDAP and Python.\n",
    "\n",
    "### Prerequisites:\n",
    "\n",
    "This notebook was written using Python 3.10, and requires:\n",
    "- Valid [Earthdata Login credentials](https://urs.earthdata.nasa.gov)\n",
    "- [Pydap >=3.5](https://github.com/pydap/pydap)\n",
    "- [NumPy](https://numpy.org/)\n",
    "\n",
    "#### Optional Anaconda Environment YAML:\n",
    "\n",
    "This notebook can be run using the ['nasa-gesdisc' YAML file](https://github.com/nasa/gesdisc-tutorials/tree/main/environments/nasa-gesdisc.yml) provided in the 'environments' subfolder.\n",
    "\n",
    "Please follow the instructions [here](https://conda.io/projects/conda/en/latest/user-guide/tasks/manage-environments.html#creating-an-environment-from-an-environment-yml-file) to install and activate this environment. \n"
   ]
  },
  {
   "cell_type": "markdown",
   "metadata": {},
   "source": [
    "### 1. Import libraries\n",
    "\n",
    "The first step is to import the required Python libraries. If any of the following import commands fail, check the local Python environment and install any missing packages. These lines will be necessary to run the rest of the cells:"
   ]
  },
  {
   "cell_type": "code",
   "execution_count": 1,
   "metadata": {},
   "outputs": [],
   "source": [
    "from pydap.client import open_url\n",
    "import numpy as np\n",
    "import requests\n",
    "import earthaccess\n",
    "import os"
   ]
  },
  {
   "cell_type": "markdown",
   "metadata": {},
   "source": [
    "### 2. Obtaining the geolocation data:\n",
    "\n",
    "- A **\"?\"** can be appended to the OPeNDAP url which should be followed by a comma separated list of the variables to include in the subset. The indices to include must be specified for each dimension of each variable.  \n",
    "- Each dimension requires a beginning index (starting from 0), a stride, and an ending index between square brackets (e.g., [beginning index:stride:ending index]). Downloading just the longitude and latitude is much faster than downloading the entire file.  \n",
    "\n",
    "- The OPeNDAP url to obtain just the Longitude and Latitude in a compressed NetCDF-4 file is given below. Since this example returns the entire variable, the index ranges are optional. \n",
    "\n",
    "- A stride will define the subsampling along the corresponding dimension. A stride of 1 gets all the elements of the hyperslab/subset, and a stride of 2 gets every other element. Also, if the stride is omitted, it is assumed to be one. Thus, the following three urls will return equivalent subsetted files.\n",
    "\n",
    "With stride 1:\n",
    "`https://oco2.gesdisc.eosdis.nasa.gov/opendap/OCO2_L1B_Science.11r/2015/015/oco2_L1bScND_02865a_150114_B11006r_230217185540.h5.nc4?SoundingGeometry_sounding_latitude[0:1:8363][0:1:7],SoundingGeometry_sounding_longitude[0:1:8363][0:1:7]`\n",
    "\n",
    "Default to stride 1:\n",
    "`https://oco2.gesdisc.eosdis.nasa.gov/opendap/OCO2_L1B_Science.11r/2015/015/oco2_L1bScND_02865a_150114_B11006r_230217185540.h5.nc4?SoundingGeometry_sounding_latitude[0:8363][0:7],SoundingGeometry_sounding_longitude[0:1:8363][0:1:7]`\n",
    "\n",
    "Full size data:\n",
    "`https://oco2.gesdisc.eosdis.nasa.gov/opendap/OCO2_L1B_Science.11r/2015/015/oco2_L1bScND_02865a_150114_B11006r_230217185540.h5.nc4?SoundingGeometry_sounding_latitude,SoundingGeometry_sounding_longitude`\n",
    "\n",
    "### 3. Reading Spatial Subset into Python:\n",
    "\n",
    "- Rather than downloading a file containing the longitude and latitude it is possible to read just the Longitude and Latitude directly into a program (e.g., Python) which can be used to find the indices in the region of interest. \n",
    "\n",
    "- The following steps specifies the indices of all of the OCO-2 footprints in a box centered near Mauna Loa and reads in the longitude, latitude, and radiances in the specified region. This example can be modified to extract more complicated spatial selections for other variables also. \n",
    "\n",
    "- Note that one is added to the ending index when reading a variable directly into Python because of the Pythonic convention of terminating arrays at the beginning of the given index rather than including that index. Python also does not require the stride."
   ]
  },
  {
   "cell_type": "markdown",
   "metadata": {},
   "source": [
    "### 4. Open Earthdata Login Token\n",
    "\n",
    "The Pydap library can use a pre-generated token to authenticate with Earthdata Login servers.\n",
    "\n",
    "To create the `.edl_token`, please follow the steps in this how-to, or else you will experience an error when running the next cell: https://disc.gsfc.nasa.gov/information/howto?keywords=prerequisite&title=How%20to%20Generate%20Earthdata%20Prerequisite%20Files "
   ]
  },
  {
   "cell_type": "code",
   "execution_count": 2,
   "metadata": {},
   "outputs": [],
   "source": [
    "# Delete or comment the following 12 lines to use the username/password prompt instead\n",
    "# Set file path to root\n",
    "token_file_path = os.path.join(os.path.expanduser(\"~\"), \".edl_token\")\n",
    "\n",
    "# Read the token from the .edl_token file\n",
    "with open(token_file_path, 'r') as token_file:\n",
    "    token = token_file.read().strip()  # Ensure to strip any newlines or extra spaces\n",
    "\n",
    "# Enter the token into the request header\n",
    "my_session = requests.Session()\n",
    "my_session.headers = {\n",
    "    'Authorization': f'Bearer {token}'\n",
    "}"
   ]
  },
  {
   "cell_type": "markdown",
   "metadata": {},
   "source": [
    "### 5. Identify the file(s) of interest:\n",
    "\n",
    "Before accessing data at GES DISC, a  user must first register with Earthdata Login, then be authorized to access data at GES DISC by following steps at:  [data-access.](https://disc.gsfc.nasa.gov/data-access)\n",
    "\n",
    "This can be done in a number of ways either by using OpenSearch or navigating the OPeNDAP directories of particular data sets. It is currently also possible to browse the http directories, however, the path to the file should be modified to match the OPeNDAP url which is unique for each data granule. One sample OPeNDAP url is given below:\n",
    "\n",
    "`https://oco2.gesdisc.eosdis.nasa.gov/opendap/OCO2_L1B_Science.11r/2015/015/oco2_L1bScND_02865a_150114_B11006r_230217185540.h5.html`\n",
    "\n",
    "Pasting this url into a web browser will download the full file in HDF5 format. This file can be downloaded in NetCDF-4 format by using the \".nc4\" suffix as shown below:\n",
    "\n",
    "`https://oco2.gesdisc.eosdis.nasa.gov/opendap/OCO2_L1B_Science.11r/2015/015/oco2_L1bScND_02865a_150114_B11006r_230217185540.h5.nc4`\n",
    "\n",
    "To learn more about OPeNDAP constraint expressions and protocols, please visit: https://disc.gsfc.nasa.gov/information/tools?title=OPeNDAP%20In%20The%20Cloud#on-prem-cloud-differences"
   ]
  },
  {
   "cell_type": "code",
   "execution_count": 3,
   "metadata": {},
   "outputs": [
    {
     "data": {
      "text/plain": [
       "'dap4://oco2.gesdisc.eosdis.nasa.gov/opendap/OCO2_L1B_Science.11r/2015/015/oco2_L1bScND_02865a_150114_B11006r_230217185540.h5'"
      ]
     },
     "execution_count": 3,
     "metadata": {},
     "output_type": "execute_result"
    }
   ],
   "source": [
    "# Create search query for 1980-01-01 Cloud OPeNDAP URL\n",
    "results = earthaccess.search_data(\n",
    "    short_name=\"OCO2_L1B_Science\",\n",
    "    version='11r',\n",
    "    temporal=('2015-01-15', '2015-01-15'), # This will stream one granule, but can be edited for a longer temporal extent\n",
    "    bounding_box=(-175, -90, 180, 0)\n",
    ")\n",
    "\n",
    "# Parse out URL from request, add to OPeNDAP URLs list for querying multiple granules with constraint expressions\n",
    "opendap_urls = []\n",
    "for item in results:\n",
    "    for urls in item['umm']['RelatedUrls']:  # Iterate over RelatedUrls in each request step\n",
    "        if 'OPENDAP' in urls.get('Description', '').upper():  # Check if 'OPENDAP' is in the Description\n",
    "            # Extract OPeNDAP URL, use DAP4 protocol\n",
    "            url = urls['URL'].replace('https://', 'dap4://')\n",
    "            # Add URL to list\n",
    "            opendap_urls.append(url)\n",
    "\n",
    "opendap_urls[0]"
   ]
  },
  {
   "cell_type": "markdown",
   "metadata": {},
   "source": [
    "### 6. Access one of the granules using Pydap\n",
    "\n",
    "Here, we will access a single OPeNDAP URL, without subsetting constraint expressions, or file type suffixes. We will use the token stored in our session to access the granule, and then use Pydap to handle the file request.\n",
    "\n",
    "Please note that when accessing via Python, you must use `dap4://` instead of `https://`."
   ]
  },
  {
   "cell_type": "code",
   "execution_count": 4,
   "metadata": {},
   "outputs": [],
   "source": [
    "dataset = open_url(opendap_urls[0], session=my_session)"
   ]
  },
  {
   "cell_type": "markdown",
   "metadata": {},
   "source": [
    "Print the list of attribute names. From this list 'SoundingGeometry_sounding_latitude' and 'SoundingGeometry_sounding_longitude' will be used in the following cells:"
   ]
  },
  {
   "cell_type": "code",
   "execution_count": 5,
   "metadata": {
    "scrolled": true
   },
   "outputs": [
    {
     "data": {
      "text/plain": [
       "<DatasetType with children 'FootprintGeometry_footprint_altitude', 'FootprintGeometry_footprint_altitude_uncert', 'FootprintGeometry_footprint_aspect', 'FootprintGeometry_footprint_azimuth', 'FootprintGeometry_footprint_land_fraction', 'FootprintGeometry_footprint_latitude', 'FootprintGeometry_footprint_latitude_geoid', 'FootprintGeometry_footprint_longitude', 'FootprintGeometry_footprint_longitude_geoid', 'FootprintGeometry_footprint_los_surface_bidirectional_angle', 'FootprintGeometry_footprint_num_topo_points', 'FootprintGeometry_footprint_o2_qual_flag', 'FootprintGeometry_footprint_plane_fit_quality', 'FootprintGeometry_footprint_polarization_angle', 'FootprintGeometry_footprint_slope', 'FootprintGeometry_footprint_solar_azimuth', 'FootprintGeometry_footprint_solar_surface_bidirectional_angle', 'FootprintGeometry_footprint_solar_zenith', 'FootprintGeometry_footprint_stokes_coefficients', 'FootprintGeometry_footprint_strong_co2_qual_flag', 'FootprintGeometry_footprint_surface_roughness', 'FootprintGeometry_footprint_time_string', 'FootprintGeometry_footprint_time_tai93', 'FootprintGeometry_footprint_vertex_altitude', 'FootprintGeometry_footprint_vertex_latitude', 'FootprintGeometry_footprint_vertex_longitude', 'FootprintGeometry_footprint_weak_co2_qual_flag', 'FootprintGeometry_footprint_zenith', 'FrameConfiguration_color_slice_position_o2', 'FrameConfiguration_color_slice_position_strong_co2', 'FrameConfiguration_color_slice_position_weak_co2', 'FrameConfiguration_footprint_spatial_end_position', 'FrameConfiguration_footprint_spatial_start_position', 'FrameConfiguration_initial_unused_pixels', 'FrameGeometry_glint_off_pointing_angle', 'FrameGeometry_glint_off_target_distance', 'FrameGeometry_glint_spot_latitude', 'FrameGeometry_glint_spot_longitude', 'FrameGeometry_ground_track', 'FrameGeometry_pitch', 'FrameGeometry_relative_velocity', 'FrameGeometry_roll', 'FrameGeometry_solar_beta_angle', 'FrameGeometry_spacecraft_alt', 'FrameGeometry_spacecraft_lat', 'FrameGeometry_spacecraft_lon', 'FrameGeometry_spacecraft_position', 'FrameGeometry_spacecraft_velocity', 'FrameGeometry_yaw', 'FrameHeader_clocking_offset_interval', 'FrameHeader_clocking_offset_start', 'FrameHeader_frame_id', 'FrameHeader_frame_qual_flag', 'FrameHeader_frame_time_string', 'FrameHeader_frame_time_tai93', 'FrameTemperatures_temp_afe_electronics_enclosure', 'FrameTemperatures_temp_fpa', 'FrameTemperatures_temp_optical_bench_grating_mz', 'FrameTemperatures_temp_relay_sco2_mz', 'FrameTemperatures_temp_shroud_py_tz1', 'FrameTemperatures_temp_smooth_fpa_o2', 'FrameTemperatures_temp_smooth_fpa_strong_co2', 'FrameTemperatures_temp_smooth_fpa_weak_co2', 'FrameTemperatures_temp_smooth_optical_bench_grating_mz', 'FrameTemperatures_temp_telescope', 'InstrumentHeader_bad_sample_list', 'InstrumentHeader_dispersion_coef_samp', 'InstrumentHeader_granule_degradation_factor', 'InstrumentHeader_ils_delta_lambda', 'InstrumentHeader_ils_relative_response', 'InstrumentHeader_measureable_signal_max_observed', 'InstrumentHeader_snr_coef', 'Metadata_ARPAncillaryDatasetDescriptor', 'Metadata_AcquisitionMode', 'Metadata_ActualFrames', 'Metadata_AncillaryDataDescriptors', 'Metadata_AscendingEquatorCrossingDate', 'Metadata_AscendingEquatorCrossingLongitude', 'Metadata_AscendingEquatorCrossingTime', 'Metadata_BadPixelMapVersionNum', 'Metadata_BuildId', 'Metadata_CollectionLabel', 'Metadata_ColorSlicePositionO2', 'Metadata_ColorSlicePositionStrongCO2', 'Metadata_ColorSlicePositionWeakCO2', 'Metadata_DataFormatType', 'Metadata_DiffuserPosition', 'Metadata_EphemerisType', 'Metadata_EquatorCrossingDate', 'Metadata_EquatorCrossingLongitude', 'Metadata_EquatorCrossingTime', 'Metadata_ExpectedFrames', 'Metadata_FirstSoundingId', 'Metadata_GapStartTime', 'Metadata_GapStopTime', 'Metadata_GranulePointer', 'Metadata_HDFVersionId', 'Metadata_InitialUnusedSpatialPixels', 'Metadata_InputPointer', 'Metadata_InstrumentShortName', 'Metadata_L1BAlgorithmDescriptor', 'Metadata_LastSoundingId', 'Metadata_LongName', 'Metadata_MaxMS', 'Metadata_ModeCounter', 'Metadata_OperationMode', 'Metadata_OrbitEccentricity', 'Metadata_OrbitInclination', 'Metadata_OrbitParametersPointer', 'Metadata_OrbitPeriod', 'Metadata_OrbitSemiMajorAxis', 'Metadata_OrbitStartDate', 'Metadata_OrbitStartLongitude', 'Metadata_OrbitStartTime', 'Metadata_PlatformLongName', 'Metadata_PlatformShortName', 'Metadata_PlatformType', 'Metadata_ProcessingLevel', 'Metadata_ProducerAgency', 'Metadata_ProducerInstitution', 'Metadata_ProductionDateTime', 'Metadata_ProductionLocation', 'Metadata_ProductionLocationCode', 'Metadata_ProjectId', 'Metadata_QAGranulePointer', 'Metadata_RangeBeginningDate', 'Metadata_RangeBeginningTime', 'Metadata_RangeEndingDate', 'Metadata_RangeEndingTime', 'Metadata_ReportedSoundings', 'Metadata_SISName', 'Metadata_SISVersion', 'Metadata_SciToFPAColorOffset', 'Metadata_ShortName', 'Metadata_SizeMBECSDataGranule', 'Metadata_SpectralChannel', 'Metadata_StartOrbitNumber', 'Metadata_StartPathNumber', 'Metadata_StopOrbitNumber', 'Metadata_StopPathNumber', 'RadianceClockingCorrection_clocking_shift_color_indicator', 'RadianceClockingCorrection_declocking_color_indicator', 'RadianceClockingCorrection_max_declocking_factor_o2', 'RadianceClockingCorrection_max_declocking_factor_strong_co2', 'RadianceClockingCorrection_max_declocking_factor_weak_co2', 'RadianceClockingCorrection_radiance_jump_ratio_o2', 'RadianceClockingCorrection_radiance_jump_ratio_strong_co2', 'RadianceClockingCorrection_radiance_jump_ratio_weak_co2', 'SliceMeasurements_radiance_slice_o2', 'SliceMeasurements_radiance_slice_strong_co2', 'SliceMeasurements_radiance_slice_weak_co2', 'SoundingGeometry_sounding_altitude', 'SoundingGeometry_sounding_altitude_uncert', 'SoundingGeometry_sounding_aspect', 'SoundingGeometry_sounding_azimuth', 'SoundingGeometry_sounding_center_offset_o2_weak_co2', 'SoundingGeometry_sounding_center_offset_strong_co2_o2', 'SoundingGeometry_sounding_center_offset_weak_co2_strong_co2', 'SoundingGeometry_sounding_id', 'SoundingGeometry_sounding_land_fraction', 'SoundingGeometry_sounding_land_water_indicator', 'SoundingGeometry_sounding_latitude', 'SoundingGeometry_sounding_latitude_geoid', 'SoundingGeometry_sounding_longitude', 'SoundingGeometry_sounding_longitude_geoid', 'SoundingGeometry_sounding_los_surface_bidirectional_angle', 'SoundingGeometry_sounding_num_topo_points', 'SoundingGeometry_sounding_operation_mode', 'SoundingGeometry_sounding_overlap', 'SoundingGeometry_sounding_overlap_o2_weak_co2', 'SoundingGeometry_sounding_overlap_strong_co2_o2', 'SoundingGeometry_sounding_overlap_weak_co2_strong_co2', 'SoundingGeometry_sounding_plane_fit_quality', 'SoundingGeometry_sounding_polarization_angle', 'SoundingGeometry_sounding_qual_flag', 'SoundingGeometry_sounding_relative_velocity', 'SoundingGeometry_sounding_slant_path_diff_o2_weak_co2', 'SoundingGeometry_sounding_slant_path_diff_strong_co2_o2', 'SoundingGeometry_sounding_slant_path_diff_weak_co2_strong_co2', 'SoundingGeometry_sounding_slope', 'SoundingGeometry_sounding_solar_azimuth', 'SoundingGeometry_sounding_solar_distance', 'SoundingGeometry_sounding_solar_relative_velocity', 'SoundingGeometry_sounding_solar_surface_bidirectional_angle', 'SoundingGeometry_sounding_solar_zenith', 'SoundingGeometry_sounding_surface_roughness', 'SoundingGeometry_sounding_time_string', 'SoundingGeometry_sounding_time_tai93', 'SoundingGeometry_sounding_zenith', 'SoundingMeasurements_rad_continuum_o2', 'SoundingMeasurements_rad_continuum_strong_co2', 'SoundingMeasurements_rad_continuum_weak_co2', 'SoundingMeasurements_radiance_o2', 'SoundingMeasurements_radiance_strong_co2', 'SoundingMeasurements_radiance_weak_co2', 'SoundingMeasurements_snr_o2_l1b', 'SoundingMeasurements_snr_strong_co2_l1b', 'SoundingMeasurements_snr_weak_co2_l1b', 'SpikeEOF_spike_eof_bad_colors_o2', 'SpikeEOF_spike_eof_bad_colors_strong_co2', 'SpikeEOF_spike_eof_bad_colors_weak_co2', 'SpikeEOF_spike_eof_parameter_o2', 'SpikeEOF_spike_eof_parameter_strong_co2', 'SpikeEOF_spike_eof_parameter_weak_co2', 'SpikeEOF_spike_eof_weighted_residual_o2', 'SpikeEOF_spike_eof_weighted_residual_strong_co2', 'SpikeEOF_spike_eof_weighted_residual_weak_co2'>"
      ]
     },
     "execution_count": 5,
     "metadata": {},
     "output_type": "execute_result"
    }
   ],
   "source": [
    "dataset"
   ]
  },
  {
   "cell_type": "markdown",
   "metadata": {},
   "source": [
    "Read data from the 'SoundingGeometry_sounding_latitude' and 'SoundingGeometry_sounding_longitude' attributes, and subset the data within a set of Longitude and Latitude bounds (in this example we use a box of coordinates centered over Mauna Loa).\n",
    "\n",
    "**Note:** If you have not created the token in your current notebook session, you will experience an access error during this step. "
   ]
  },
  {
   "cell_type": "code",
   "execution_count": 6,
   "metadata": {
    "scrolled": true
   },
   "outputs": [],
   "source": [
    "sounding_latitude = dataset['SoundingGeometry_sounding_latitude']\n",
    "sounding_longitude = dataset['SoundingGeometry_sounding_longitude']\n",
    "location = [-158,17,-153,22]\n",
    "ialongtrack,iacrosstrack = np.where((sounding_longitude.data[:] > location[0]) & (sounding_latitude.data[:] < location[1]) & (sounding_longitude.data[:] < location[2]) & (sounding_latitude.data[:] < location[3]))"
   ]
  },
  {
   "cell_type": "markdown",
   "metadata": {},
   "source": [
    "Read in spatial subsets directly from the Pydap dataset:"
   ]
  },
  {
   "cell_type": "code",
   "execution_count": 7,
   "metadata": {},
   "outputs": [],
   "source": [
    "sounding_latitude_sel=dataset['SoundingGeometry_sounding_latitude'].data[ialongtrack.min():ialongtrack.max()+1,iacrosstrack.min():iacrosstrack.max()+1]\n",
    "sounding_longitude_sel=dataset['SoundingGeometry_sounding_longitude'].data[ialongtrack.min():ialongtrack.max()+1,iacrosstrack.min():iacrosstrack.max()+1]"
   ]
  },
  {
   "cell_type": "markdown",
   "metadata": {},
   "source": [
    "Note that “:” is given for the spectral dimension:"
   ]
  },
  {
   "cell_type": "code",
   "execution_count": 8,
   "metadata": {},
   "outputs": [],
   "source": [
    "radiance_o2_sel=dataset['SoundingMeasurements_radiance_o2'].data[ialongtrack.min():ialongtrack.max()+1,iacrosstrack.min():iacrosstrack.max()+1,:]\n",
    "radiance_strong_co2_sel=dataset['SoundingMeasurements_radiance_strong_co2'].data[ialongtrack.min():ialongtrack.max()+1,iacrosstrack.min():iacrosstrack.max()+1,:]\n",
    "radiance_weak_co2_sel=dataset['SoundingMeasurements_radiance_weak_co2'].data[ialongtrack.min():ialongtrack.max()+1,iacrosstrack.min():iacrosstrack.max()+1,:]"
   ]
  },
  {
   "cell_type": "markdown",
   "metadata": {},
   "source": [
    "Preview the radiance_o2_sel data:"
   ]
  },
  {
   "cell_type": "code",
   "execution_count": 9,
   "metadata": {},
   "outputs": [
    {
     "name": "stdout",
     "output_type": "stream",
     "text": [
      "(712, 8, 1016)\n",
      "[1.7377791e+19 1.7470743e+19 1.7500829e+19 ... 1.5983857e+19 1.6740403e+19\n",
      " 1.6812959e+19]\n",
      "[5.4536375e+19 5.4693733e+19 5.4410481e+19 ... 4.9029805e+19 5.0783940e+19\n",
      " 5.1521193e+19]\n"
     ]
    }
   ],
   "source": [
    "print(radiance_o2_sel.shape)\n",
    "print(radiance_o2_sel[0][0])\n",
    "print(radiance_o2_sel[8][0])"
   ]
  },
  {
   "cell_type": "markdown",
   "metadata": {},
   "source": [
    "Preview the radiance_strong_co2_sel data:"
   ]
  },
  {
   "cell_type": "code",
   "execution_count": 10,
   "metadata": {},
   "outputs": [
    {
     "name": "stdout",
     "output_type": "stream",
     "text": [
      "(712, 8, 1016)\n",
      "[1.7377791e+19 1.7470743e+19 1.7500829e+19 ... 1.5983857e+19 1.6740403e+19\n",
      " 1.6812959e+19]\n",
      "[5.4536375e+19 5.4693733e+19 5.4410481e+19 ... 4.9029805e+19 5.0783940e+19\n",
      " 5.1521193e+19]\n"
     ]
    }
   ],
   "source": [
    "print(radiance_o2_sel.shape)\n",
    "print(radiance_o2_sel[0][0])\n",
    "print(radiance_o2_sel[8][0])"
   ]
  },
  {
   "cell_type": "markdown",
   "metadata": {},
   "source": [
    "Preview the radiance_weak_co2_sel data:"
   ]
  },
  {
   "cell_type": "code",
   "execution_count": 11,
   "metadata": {},
   "outputs": [
    {
     "name": "stdout",
     "output_type": "stream",
     "text": [
      "(712, 8, 1016)\n",
      "[4.5389055e+18 4.3843411e+18 4.6281105e+18 ... 4.3437466e+18 4.2317193e+18\n",
      " 4.7516995e+18]\n",
      "[2.4819458e+19 2.4360206e+19 2.5948312e+19 ... 2.2327963e+19 2.1542456e+19\n",
      " 2.4490685e+19]\n"
     ]
    }
   ],
   "source": [
    "print(radiance_weak_co2_sel.shape)\n",
    "print(radiance_weak_co2_sel[0][0])\n",
    "print(radiance_weak_co2_sel[8][0])"
   ]
  },
  {
   "cell_type": "markdown",
   "metadata": {},
   "source": [
    "### 7. Constraint expressions for subsetting\n",
    "\n",
    "Rather than reading the spatially subsetted variables into a program, the indices can be used to construct a url to download a subsetted file containing just the selected portion of the given orbit. Using the previously mentioned file as an example, the OPeNDAP url to download a spatial and variable subset as a NetCDF4 file consisting of the radiances and coordinates near Mauna Loa is shown below, referred to as [\"constraint expressions\"](https://opendap.github.io/documentation/UserGuideComprehensive.html#Constraint_Expressions). Note that the stride, which is omitted, is assumed to be one:\n",
    "\n",
    "`https://oco2.gesdisc.eosdis.nasa.gov/opendap/OCO2_L1B_Science.11r/2015/015/oco2_L1bScND_02865a_150114_B11006r_230217185540.h5.nc4?SoundingGeometry_sounding_latitude[5993:6242][0:7],SoundingGeometry_sounding_longitude[5993:6242][0:7],SoundingGeometry_sounding_time_tai93[5993:6242][0:7],SoundingMeasurements_radiance_o2[5993:6242][0:7][0:1015],SoundingMeasurements_radiance_strong_co2[5993:6242][0:7][0:1015],SoundingMeasurements_radiance_weak_co2[5993:6242][0:7][0:1015]`\n",
    "\n",
    "\n",
    "The following Python code shows how this url could be constructed using Python. Note that the following snippet of code is just a string definition that could be performed in one line. The \"\\\\\" joins several lines of Python code to make each variable specification more readable. Also, note that the spectral dimension for the radiance variables is hard coded to 1015 (0 is the first index) in this example. A spectral subset could also be obtained by specifying the indices of the spectral range as was done in this recipe for the spatial range."
   ]
  },
  {
   "cell_type": "code",
   "execution_count": 12,
   "metadata": {},
   "outputs": [
    {
     "name": "stdout",
     "output_type": "stream",
     "text": [
      "dap4://oco2.gesdisc.eosdis.nasa.gov/opendap/OCO2_L1B_Science.11r/2015/015/oco2_L1bScND_02865a_150114_B11006r_230217185540.h5?dap4.ce=/SoundingGeometry_sounding_latitude[2591:3302][0:7]%3B/SoundingGeometry_sounding_longitude[2591:3302][0:7]%3B/SoundingGeometry_sounding_time_tai93[2591:3302][0:7]%3B/SoundingMeasurements_radiance_o2[2591:3302][0:7][0:1015]%3B/SoundingMeasurements_radiance_strong_co2[2591:3302][0:7][0:1015]%3B/SoundingMeasurements_radiance_weak_co2[2591:3302][0:7][0:1015]\n"
     ]
    }
   ],
   "source": [
    "subset_url = opendap_urls[0] + \"?dap4.ce=\"\\\n",
    "+\"/SoundingGeometry_sounding_latitude\"+\"[{:d}:{:d}][{:d}:{:d}]\".format(ialongtrack.min(),ialongtrack.max(),iacrosstrack.min(),iacrosstrack.max())\\\n",
    "+\"%3B/SoundingGeometry_sounding_longitude\"+\"[{:d}:{:d}][{:d}:{:d}]\".format(ialongtrack.min(),ialongtrack.max(),iacrosstrack.min(),iacrosstrack.max())\\\n",
    "+\"%3B/SoundingGeometry_sounding_time_tai93\"+\"[{:d}:{:d}][{:d}:{:d}]\".format(ialongtrack.min(),ialongtrack.max(),iacrosstrack.min(),iacrosstrack.max())\\\n",
    "+\"%3B/SoundingMeasurements_radiance_o2\"+\"[{:d}:{:d}][{:d}:{:d}][{:d}:{:d}]\".format(ialongtrack.min(),ialongtrack.max(),iacrosstrack.min(),iacrosstrack.max(),0,1015)\\\n",
    "+\"%3B/SoundingMeasurements_radiance_strong_co2\"+\"[{:d}:{:d}][{:d}:{:d}][{:d}:{:d}]\".format(ialongtrack.min(),ialongtrack.max(),iacrosstrack.min(),iacrosstrack.max(),0,1015)\\\n",
    "+\"%3B/SoundingMeasurements_radiance_weak_co2\"+\"[{:d}:{:d}][{:d}:{:d}][{:d}:{:d}]\".format(ialongtrack.min(),ialongtrack.max(),iacrosstrack.min(),iacrosstrack.max(),0,1015) \n",
    "\n",
    "print(subset_url)"
   ]
  },
  {
   "cell_type": "markdown",
   "metadata": {},
   "source": [
    "Finally, we will open this subsetted URL using Pydap, and print its metadata:"
   ]
  },
  {
   "cell_type": "code",
   "execution_count": 13,
   "metadata": {},
   "outputs": [
    {
     "data": {
      "text/plain": [
       "<DatasetType with children 'SoundingGeometry_sounding_latitude', 'SoundingGeometry_sounding_longitude', 'SoundingGeometry_sounding_time_tai93', 'SoundingMeasurements_radiance_o2', 'SoundingMeasurements_radiance_strong_co2', 'SoundingMeasurements_radiance_weak_co2'>"
      ]
     },
     "execution_count": 13,
     "metadata": {},
     "output_type": "execute_result"
    }
   ],
   "source": [
    "dataset = open_url(subset_url, session=my_session)\n",
    "\n",
    "dataset"
   ]
  },
  {
   "cell_type": "markdown",
   "metadata": {},
   "source": [
    "## Additional Info:\n",
    "\n",
    "The Python programs described here have been tested using Python 3.10 and can be modified to create similar spatial and variable subsets for other regions and data sets that are available through OPeNDAP\n",
    "\n",
    "This data recipe is created by Thomas Hearty with contribution from Andrey Savtchenko, Fan Fang, Paul Huwe, Kyle MacRitchie, Tatiana DaSilva, Dana Ostrenga, Richard Strube, Chung-Lin Shie. It was edited by Chris Battisto in April 2024."
   ]
  },
  {
   "cell_type": "markdown",
   "metadata": {},
   "source": [
    "<font size=\"1\">THE SUBJECT FILE IS PROVIDED \"AS IS\" WITHOUT ANY WARRANTY OF ANY KIND, EITHER EXPRESSED, IMPLIED, OR STATUTORY, INCLUDING, BUT NOT LIMITED TO, ANY WARRANTY THAT THE SUBJECT FILE WILL CONFORM TO SPECIFICATIONS, ANY IMPLIED WARRANTIES OF MERCHANTABILITY, FITNESS FOR A PARTICULAR PURPOSE, OR FREEDOM FROM INFRINGEMENT, ANY WARRANTY THAT THE SUBJECT FILE WILL BE ERROR FREE, OR ANY WARRANTY THAT DOCUMENTATION, IF PROVIDED, WILL CONFORM TO THE SUBJECT FILE. THIS AGREEMENT DOES NOT, IN ANY MANNER, CONSTITUTE AN ENDORSEMENT BY GOVERNMENT AGENCY OR ANY PRIOR RECIPIENT OF ANY RESULTS, RESULTING DESIGNS, HARDWARE, SOFTWARE PRODUCTS OR ANY OTHER APPLICATIONS RESULTING FROM USE OF THE SUBJECT FILE. FURTHER, GOVERNMENT AGENCY DISCLAIMS ALL WARRANTIES AND LIABILITIES REGARDING THIRD-PARTY SOFTWARE, IF PRESENT IN THE SUBJECT FILE, AND DISTRIBUTES IT \"AS IS.\""
   ]
  }
 ],
 "metadata": {
  "kernelspec": {
   "display_name": "Python 3 (ipykernel)",
   "language": "python",
   "name": "python3"
  },
  "language_info": {
   "codemirror_mode": {
    "name": "ipython",
    "version": 3
   },
   "file_extension": ".py",
   "mimetype": "text/x-python",
   "name": "python",
   "nbconvert_exporter": "python",
   "pygments_lexer": "ipython3",
   "version": "3.10.18"
  }
 },
 "nbformat": 4,
 "nbformat_minor": 2
}
