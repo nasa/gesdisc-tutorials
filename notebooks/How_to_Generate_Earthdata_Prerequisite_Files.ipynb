{
 "cells": [
  {
   "attachments": {},
   "cell_type": "markdown",
   "metadata": {},
   "source": [
    "# How to Generate Earthdata Prerequisite Files\n",
    "\n",
    "### Overview\n",
    "\n",
    "This guide demonstrates how to generate three Earthdata prerequisite files (.netrc, .urs_cookies, .dodsrc) needed to access the GES DISC archives manually, or through Python. It uses native Python libraries to generate the files in either Windows/macOS/Linux environments and to place them in their appropriate folders. Additionally, it demonstrates how to retrieve an Earthdata Login token for use with the `Pydap` Python library.\n",
    "\n",
    "#### ***What are \"Earthdata Prerequisite Files?\"***\n",
    "\n",
    "1. `.netrc` File <br><br>\n",
    "The `.netrc` file contains your Earthdata Login credentials, and is stored in the root user folder. For purposes of logging and security, having an Earthdata Login, and credentials stored in the `.netrc` file, is required when accessing data from any NASA Earthdata server. However, for users who wish to use a token, a `.netrc` file is not required. The `.netrc` file only needs to be generated once on each computer that data is programmatically accessed. For most data access tools, the `.netrc` file is used for authentication by default.<br><br>\n",
    "2. `.dodsrc` File<br><br>\n",
    "The `.dodsrc` file contains file paths to your `.netrc` and `.dodsrc` files. It is specifically used for accessing NASA OPeNDAP servers, and is required to be generated and stored to authenticate with these servers. This file ***does not*** need to be generated for users who wish to access OPeNDAP servers using an Earthdata Login token. For non-Windows users, it only needs to be generated and stored once in the root user folder. For Windows users, the file must also be stored in the current working directory from where OPeNDAP data access tools will be used.\n",
    "3. `.urs_cookies` File<br><br>\n",
    "The `.urs_cookies` file stores cookies related to authentication when accessing NASA Earthdata servers via command prompt tools, such as `wget` or `curl`. This file only needs to be generated once, and is stored in the root user folder, originally as a blank text file.<br><br>\n",
    "4. ***Optional:*** `.edl_token` File<br><br>\n",
    "The `.edl_token` file is a text file that contains an [Earthdata Login token](https://urs.earthdata.nasa.gov/documentation/for_users/user_token), which can be used ***in place*** of the `.netrc` file. The token can be manually generated using the [EDL GUI](https://urs.earthdata.nasa.gov/documentation/for_users/user_token#gui), or by accessing the [User Tokens API](https://urs.earthdata.nasa.gov/documentation/for_users/user_token#api), as demonstrated in this notebook. Please note that by default, the `.netrc` token is used by NASA Earthdata servers to authenticate, and that the proper tool and syntax must be used for accessing data via tokens. Additionally, when accessing OPeNDAP data using a token, a `.dodsrc` file ***does not*** need to be present. \n",
    "\n",
    "### Example\n",
    "\n",
    "<img src=\"https://raw.githubusercontent.com/nasa/gesdisc-tutorials/main/images/Prerequisite-Files-Diagram.png\" alt=\"Prerequisite Files Diagram\">\n",
    "\n",
    "Figure 1: File and folder hierarchy showing where each Earthdata authentication file should be stored in your local filesystem.\n",
    "\n",
    "### Prerequisites\n",
    "\n",
    "<div style=\"background:#ADD8E6; border:1px solid #000000; padding:5px 10px; color:#000000;\">\n",
    "    <strong>Warning:</strong> An Earthdata Login account with the \"NASA GES DISC DATA ARCHIVE\" and \"Hyrax in the Cloud\" applications enabled are required to access GES DISC data and store \"Earthdata prerequisite files\". To create an Earthdata Login account, and enable these applications, please visit <a href=\"https://disc.gsfc.nasa.gov/earthdata-login\" target=\"_blank\">this guide</a>.\n",
    "</div>\n",
    "\n",
    "This notebook was written using Python 3.8, and requires the following:\n",
    "- Approval to access the GES DISC archives with your Earthdata credentials: https://disc.gsfc.nasa.gov/earthdata-login"
   ]
  },
  {
   "cell_type": "markdown",
   "metadata": {},
   "source": [
    "### Contents\n",
    "* [Create Prerequisite Files Manually](#create_manually)\n",
    "    * [Create <code>.netrc</code> file](#create_manually_netrc)\n",
    "    * [Create <code>.urs_cookies</code> file](#create_manually_cookies)\n",
    "    * [Create <code>.dodsrc</code> file](#create_manually_dods)\n",
    "* [Create Prerequisite Files using Python](#create_python)\n",
    "    * [Create <code>.dodsrc</code> and <code>.urs_cookies files</code> ](#create_python_dods_cookies)\n",
    "    * [Create <code>.netrc</code> file using Native Python libraries](#create_python_netrc_native)\n",
    "    * [Create <code>.netrc</code> file using <code>earthaccess</code>](#create_python_netrc_earthaccess)\n",
    "* [(Optional) Retrieve and Store Earthdata Login Token](#edl_token)\n",
    "      "
   ]
  },
  {
   "attachments": {},
   "cell_type": "markdown",
   "metadata": {},
   "source": [
    "### 1. Create Prerequisite Files Manually <a class=\"anchor\" id=\"create_manually\"></a>\n",
    "\n",
    "- #### Create <code>.netrc</code> file: <a class=\"anchor\" id=\"create_manually_netrc\"></a>\n",
    "    1. Make sure you have set up your [Earthdata account](https://disc.gsfc.nasa.gov/#top).\n",
    "    2. Create a .netrc file in your home directory by following these steps:\n",
    "\n",
    "    On **Mac/Linux**:\n",
    "    1. <code>cd ~</code> or <code>cd $HOME</code>\n",
    "    2. <code>touch .netrc</code>\n",
    "    3. <code>echo \"machine urs.earthdata.nasa.gov login < uid > password < password >\" >> .netrc</code>, where < uid > is your username and < password > is your Earthdata Login password without the brackets.\n",
    "    4. <code>chmod 0600 .netrc</code>, so only you can access it.\n",
    "\n",
    "    On **Windows**:\n",
    "    1. Open Notepad\n",
    "    2. Enter (without quotes):<br><br>\n",
    "       <code>machine urs.earthdata.nasa.gov login < uid > password < password ></code><br>\n",
    "       Replace  <uid> with your username and <password> with your Earthdata Login password and remove the brackets.<br><br>\n",
    "    3. Save as C:\\\\.netrc<br>\n",
    "\n",
    "         "
   ]
  },
  {
   "cell_type": "markdown",
   "metadata": {},
   "source": [
    "**Note: The following `.urs_cookies` and `.dodsrc` files ***must*** be generated and stored correctly to mitigate authentication errors:** "
   ]
  },
  {
   "cell_type": "markdown",
   "metadata": {},
   "source": [
    "- #### Create <code>.urs_cookies</code> file: <a class=\"anchor\" id=\"create_manually_cookies\"></a>\n",
    "    On **Mac/Linux**:\n",
    "    1. <code>cd ~</code> or <code>cd $HOME</code>\n",
    "    2. <code>touch .urs_cookies</code>\n",
    "\n",
    "    On **Windows**:\n",
    "    1. Open a run-command window by pressing <code>WinKey + R</code>\n",
    "    2. Next, enter \"cmd\" in the text field and click \"OK\".\n",
    "    3. Navigate to the home directory. In this guide, we place it under the C drive. You can navigate to the C drive by entering <code>C:</code>\n",
    "    4. Finally, enter <code>NUL > .urs_cookies</code>.\n",
    "\n",
    "    Note: you may get an 'Access denied' error. Enter 'dir' in Windows or ‘ls’ in Mac/Linux to verify that '.urs_cookies' file is listed in your directory."
   ]
  },
  {
   "cell_type": "markdown",
   "metadata": {},
   "source": [
    "- #### Create <code>.dodsrc</code> file: <a class=\"anchor\" id=\"create_manually_dods\"></a>\n",
    "    On **Mac/Linux**:\n",
    "    1. <code>cd ~</code> or <code>cd $HOME</code>\n",
    "    2. <code>touch .dodsrc</code>\n",
    "    3. Open the .dodsrc file in a text editor and add the following lines, with the paths to your .netrc and .urs_cookies files: <br><br>\n",
    "    HTTP.NETRC=< YourHomeDirectory >/.netrc<br>\n",
    "    HTTP.COOKIEJAR=< YourHomeDirectory >/.urs_cookies<br><br>\n",
    "    Replace < YourHomeDirectory > with the ABSOLUTE path of your home directory and remove the bracket.<br><br>\n",
    "\n",
    "    On **Windows**:\n",
    "    1. Open a run-command window by pressing <code>WinKey + R</code>\n",
    "    2. Next, enter \"cmd\" in the text field and click \"OK\".\n",
    "    3. Navigate to your root user directory.\n",
    "    4. Enter <code>NUL > .dodsrc</code>\n",
    "    5. Open the .dodsrc file in a text editor and add the following lines, with the paths to your .netrc and .urs_cookies files: <br><br>\n",
    "    HTTP.NETRC=< YourHomeDirectory >/.netrc<br>\n",
    "    HTTP.COOKIEJAR=< YourHomeDirectory >/.urs_cookies<br><br>\n",
    "    Replace < YourHomeDirectory > with the ABSOLUTE path of your home directory and remove the bracket.<br><br>\n",
    "    6. Copy the .dodsrc file to your *working* project directory."
   ]
  },
  {
   "cell_type": "markdown",
   "metadata": {},
   "source": [
    "### 2. Create prerequisite files using Python <a class=\"anchor\" id=\"create_python\"></a>\n",
    "\n",
    "Below, we demonstrate how to create the `.dodsrc` and `.urs_cookies` files using Python, before creating the `.netrc` file using either `earthaccess` or native Python libraries."
   ]
  },
  {
   "cell_type": "markdown",
   "metadata": {},
   "source": [
    "#### 2a. Create `.dodsrc` and `.urs_cookies` files <a class=\"anchor\" id=\"create_python_dods_cookies\"></a>\n",
    "\n",
    "The following Python code will automatically create and store the `.urs_cookies` and `.dodsrc` files in their appropriate place depending on the operating system of the user.\n",
    "\n",
    "**Note: The following `.urs_cookies` and `.dodsrc` files ***must*** be generated and stored correctly to mitigate authentication errors:** "
   ]
  },
  {
   "cell_type": "code",
   "execution_count": null,
   "metadata": {},
   "outputs": [],
   "source": [
    "from subprocess import Popen\n",
    "import platform\n",
    "import os\n",
    "import shutil\n",
    "\n",
    "homeDir = os.path.expanduser(\"~\") + os.sep\n",
    "\n",
    "# Create .urs_cookies and .dodsrc files\n",
    "with open(homeDir + '.urs_cookies', 'w') as file:\n",
    "    file.write('')\n",
    "    file.close()\n",
    "with open(homeDir + '.dodsrc', 'w') as file:\n",
    "    file.write('HTTP.COOKIEJAR={}.urs_cookies\\n'.format(homeDir))\n",
    "    file.write('HTTP.NETRC={}.netrc'.format(homeDir))\n",
    "    file.close()\n",
    "\n",
    "print('Saved .urs_cookies and .dodsrc to:', homeDir)\n",
    "\n",
    "# Copy dodsrc to working directory in Windows\n",
    "if platform.system() == \"Windows\":  \n",
    "    shutil.copy2(homeDir + '.dodsrc', os.getcwd())\n",
    "    print('Copied .dodsrc to:', os.getcwd())"
   ]
  },
  {
   "cell_type": "markdown",
   "metadata": {},
   "source": [
    "#### 2b. Create `.netrc` file using Native Python libraries <a class=\"anchor\" id=\"create_python_netrc_native\"></a>\n",
    "\n",
    "The following Python code will prompt you for your Earthdata username and password before generating and storing these three files in their appropriate locations for Windows, Linux, or macOS operating systems. It can be run multiple times, and each time will overwrite existing credential files (if they already exist). This code can be run inside of this notebook or can be put into its own Python script.\n",
    "\n",
    "Note that this method does not check if your Earthdata username or password is incorrect, and may need to be re-run if you are experiencing authentication errors."
   ]
  },
  {
   "cell_type": "code",
   "execution_count": null,
   "metadata": {},
   "outputs": [],
   "source": [
    "from subprocess import Popen\n",
    "from getpass import getpass\n",
    "import platform\n",
    "import os\n",
    "import shutil\n",
    "\n",
    "urs = 'urs.earthdata.nasa.gov'    # Earthdata URL to call for authentication\n",
    "prompts = ['Enter NASA Earthdata Login Username \\n(or create an account at urs.earthdata.nasa.gov): ',\n",
    "           'Enter NASA Earthdata Login Password: ']\n",
    "\n",
    "homeDir = os.path.expanduser(\"~\") + os.sep\n",
    "\n",
    "with open(homeDir + '.netrc', 'w') as file:\n",
    "    file.write('machine {} login {} password {}'.format(urs, getpass(prompt=prompts[0]), getpass(prompt=prompts[1])))\n",
    "    file.close()\n",
    "\n",
    "print('Saved .netrc to:', homeDir)\n",
    "\n",
    "# Set appropriate permissions for Linux/macOS\n",
    "if platform.system() != \"Windows\":\n",
    "    Popen('chmod og-rw ~/.netrc', shell=True)"
   ]
  },
  {
   "cell_type": "markdown",
   "metadata": {},
   "source": [
    "#### 2c. Create `.netrc` file using `earthaccess` <a class=\"anchor\" id=\"create_python_netrc_earthaccess\"></a>\n",
    "\n",
    "Alternatively, you can use the `earthaccess` library to generate the `.netrc` file, and save to your local environment. The following code snippet will check if you have the `.netrc` file present, and if not, it will prompt you for your Earthdata username and password. It will also authenticate the username and password with Earthdata Login servers, which will output an error if the credentials are incorrect. Additionally, this method will create the `.dodsrc` file needed to access OPeNDAP URLs.\n",
    "\n",
    "For more information on how `earthaccess` authenticates with NASA Earthdata, please visit: https://earthaccess.readthedocs.io/en/stable/howto/authenticate/"
   ]
  },
  {
   "cell_type": "code",
   "execution_count": null,
   "metadata": {},
   "outputs": [],
   "source": [
    "import earthaccess\n",
    "\n",
    "auth = earthaccess.login(strategy=\"interactive\", persist=True)"
   ]
  },
  {
   "cell_type": "markdown",
   "metadata": {},
   "source": [
    "### 3. ***Optional***: Retrieve and Store Earthdata Login Token <a class=\"anchor\" id=\"edl_token\"></a>\n",
    "\n",
    "For some data access methods, including cloud-enabled OPeNDAP granules, an Earthdata Login token can be generated and saved to a variable in place of Earthdata prerequisite files. The following code snippet will prompt you for your Earthdata username and password, and will save the token to a variable, and a root file titled `.edl_token`. Uncomment the print line if you wish to display the token inside this notebook.\n",
    "\n",
    "**Note: Earthdata Login tokens are ***only valid for 60 days***, and the .edl_token file will need to be refreshed with a new token after that period has passed.**\n",
    "- For more information about Earthdata Login tokens, or to generate a token manually, please visit [this guide](https://urs.earthdata.nasa.gov/documentation/for_users/user_token)."
   ]
  },
  {
   "cell_type": "code",
   "execution_count": null,
   "metadata": {},
   "outputs": [],
   "source": [
    "import requests\n",
    "from base64 import b64encode\n",
    "from getpass import getpass\n",
    "import os\n",
    "\n",
    "# Earthdata Login URL for obtaining the token, and creating one if it doesn't exist\n",
    "url = 'https://urs.earthdata.nasa.gov/api/users/find_or_create_token'\n",
    "\n",
    "# Earthdata Login credential prompts\n",
    "prompts = ['Enter NASA Earthdata Login Username \\n(or create an account at urs.earthdata.nasa.gov): ',\n",
    "           'Enter NASA Earthdata Login Password: ']\n",
    "\n",
    "# Get credentials from user input\n",
    "username = getpass(prompt=prompts[0])\n",
    "password = getpass(prompt=prompts[1])\n",
    "\n",
    "# Encode credentials using Base64\n",
    "credentials = b64encode(f\"{username}:{password}\".encode('utf-8')).decode('utf-8')\n",
    "\n",
    "# Headers with the Basic Authorization\n",
    "headers = {\n",
    "    'Authorization': f'Basic {credentials}'\n",
    "}\n",
    "\n",
    "# Make the POST request to get the token\n",
    "response = requests.post(url, headers=headers)\n",
    "\n",
    "# Check if the request was successful\n",
    "if response.status_code == 200:\n",
    "    # Parse the response JSON to get the token\n",
    "    token_info = response.json()\n",
    "    token = token_info.get(\"access_token\")\n",
    "    print(\"Token retrieved successfully\")\n",
    "\n",
    "    # Define the path for the .edl_token file in the home directory\n",
    "    token_file_path = os.path.join(os.path.expanduser(\"~\"), \".edl_token\")\n",
    "\n",
    "    # Write the token to the .edl_token file\n",
    "    with open(token_file_path, 'w') as token_file:\n",
    "        token_file.write(token)\n",
    "\n",
    "    print(f\"Token saved to {token_file_path}\")\n",
    "\n",
    "else:\n",
    "    print(\"Failed to retrieve token:\", response.text)"
   ]
  }
 ],
 "metadata": {
  "kernelspec": {
   "display_name": "Python 3 (ipykernel)",
   "language": "python",
   "name": "python3"
  },
  "language_info": {
   "codemirror_mode": {
    "name": "ipython",
    "version": 3
   },
   "file_extension": ".py",
   "mimetype": "text/x-python",
   "name": "python",
   "nbconvert_exporter": "python",
   "pygments_lexer": "ipython3",
   "version": "3.10.15"
  },
  "vscode": {
   "interpreter": {
    "hash": "6e2a53b7f731e108ce587957058115707d8b5b9f5409c1d7eb9760e593c87f6d"
   }
  }
 },
 "nbformat": 4,
 "nbformat_minor": 4
}
