{
 "cells": [
  {
   "attachments": {},
   "cell_type": "markdown",
   "id": "4da9684d-260e-49f4-a9ae-164738c17f3d",
   "metadata": {
    "id": "4da9684d-260e-49f4-a9ae-164738c17f3d"
   },
   "source": [
    "# How to Access GES DISC Data Using Python\n",
    "\n",
    "### Overview\n",
    "\n",
    "There are multiple ways to work with GES DISC data resources using Python. For example, the data can accessed using [techniques that rely on a native Python code](https://cmr.earthdata.nasa.gov/search/site/docs/search/api.html). \n",
    "\n",
    "Still, there are several third-party libraries that can further simplify the access. In the sections below, we demonstrate downloading and streaming granules to the notebook using these libraries.\n",
    "\n",
    "The examples will use a sample MERRA-2 granule, from the [M2T1NXSLV.5.12.4 collection](https://disc.gsfc.nasa.gov/datasets/M2T1NXSLV_5.12.4/summary?keywords=M2T1NXSLV_5.12.4), to demonstrate data access.\n",
    "\n",
    "### Prerequisites\n",
    "\n",
    "<div style=\"background:#ADD8E6; border:1px solid #000000; padding:5px 10px; color:#000000;\">\n",
    "    <strong>Warning:</strong> An Earthdata Login account with the \"NASA GES DISC DATA ARCHIVE\" and \"Hyrax in the Cloud\" applications enabled are required to access GES DISC data and store \"Earthdata prerequisite files\". To create an Earthdata Login account, and enable these applications, please visit <a href=\"https://disc.gsfc.nasa.gov/earthdata-login\" target=\"_blank\">this guide</a>.\n",
    "</div>\n",
    "\n",
    "<p></p>\n",
    "\n",
    "<div style=\"background:#FFFFC5; border:1px solid #000000; padding:5px 10px; color:#000000;\">\n",
    "    <strong>Note:</strong> Please, be very judicious when working on long data time series residing on a remote data server.<br />\n",
    "    It is very likely that attempts to apply similar approaches on remote data, such as hourly data, for more than a year of data at a time, will result in a heavy load on the remote data server. This may lead to negative consequences, ranging from very slow performance that will be experienced by hundreds of other users, up to denial of service.\n",
    "</div>\n",
    "\n",
    "This notebook was written using Python 3.10, and requires these libraries and files:\n",
    "\n",
    "- `netrc` or `edl_token` file with valid Earthdata Login credentials\n",
    "   - [How to Generate Earthdata Prerequisite Files](https://disc.gsfc.nasa.gov/information/howto?title=How%20to%20Generate%20Earthdata%20Prerequisite%20Files)\n",
    "- [pydap](https://github.com/pydap/pydap) (we recommend using version 3.5)\n",
    "- [xarray](https://docs.xarray.dev/en/stable/) (must be >=2025.4.0)\n",
    "- [netCDF4-python](https://github.com/Unidata/netcdf4-python) (we recommend using version 1.6.2)\n",
    "- [earthaccess](https://earthaccess.readthedocs.io/en/latest/quick-start/)\n",
    "- ***Optional:***\n",
    "   - [requests](https://pypi.org/project/requests/), when using a `.edl_token` for authentication\n",
    "\n",
    "### Optional Anaconda Environment YAML:\n",
    "This notebook can be run using the ['nasa-gesdisc' YAML file](https://github.com/nasa/gesdisc-tutorials/tree/main/environments/nasa-gesdisc.yml) provided in the 'environments' subfolder. \n",
    "Please follow the instructions [here](https://conda.io/projects/conda/en/latest/user-guide/tasks/manage-environments.html#creating-an-environment-from-an-environment-yml-file) to install and activate this environment.\n",
    " \n",
    "\n",
    "### Contents\n",
    "* [Search and Download Full Granule Data using `earthaccess`](#download_full_granules)\n",
    "\n",
    "* [Search and Stream Full Granule Data using `earthaccess`](#stream_full_granules)\n",
    "\n",
    "* [Search, Subset, and Stream Granule Data from OPeNDAP Servers](#opendap)\n",
    "    * [Option 1: Use `xarray` and `pydap`](#opendap_xarray)\n",
    "    * [Option 2: Use `netcdf4-python`](#opendap_netcdf4-python)\n",
    "* [Search, Subset, and Stream Granule Data from THREDDS Servers Using Xarray](#thredds)\n",
    "\n",
    "* [Search, Subset, and Stream Data from the Level 3/4 Subsetter and Regridder API](#l34rs)"
   ]
  },
  {
   "cell_type": "markdown",
   "id": "6d3259b1",
   "metadata": {},
   "source": [
    "### Links Used in this Notebook\n",
    "\n",
    "There are several example links that will be used to access data from the same granule. Each link can be searched for using several tools, including [Earthdata Search](https://search.earthdata.nasa.gov/search/granules/granule-details?p=C1276812863-GES_DISC&pg[0][v]=f&pg[0][qt]=1980-01-01%2C1981&pg[0][gsk]=-start_date&g=G1277898447-GES_DISC&q=M2T1NXSLV&tl=1723660883!3!!), the [dataset landing page](https://disc.gsfc.nasa.gov/datasets/M2T1NXSLV_5.12.4/summary?keywords=M2T1NXSLV_5.12.4) for the particular collection, or through the [Content Metadata Repository](https://cmr.earthdata.nasa.gov/virtual-directory/collections/C1276812863-GES_DISC/temporal/1980/01/01). Links can be generated programmatically using the `earthaccess` library, the [python-cmr](https://github.com/nasa/python_cmr) library, or the [Web Services API](https://disc.gsfc.nasa.gov/information/howto?keywords=dataset%).\n",
    "\n",
    "Links used in this notebook:\n",
    "- M2T1NXSLV.5.12.4 Dataset Landing Page: https://disc.gsfc.nasa.gov/datasets/M2T1NXSLV_5.12.4/summary?keywords=M2T1NXSLV_5.12.4\n",
    "- HTTPS: https://data.gesdisc.earthdata.nasa.gov/data/MERRA2/M2T1NXSLV.5.12.4/1980/01/MERRA2_100.tavg1_2d_slv_Nx.19800101.nc4\n",
    "- OPeNDAP ([?](https://disc.gsfc.nasa.gov/information/documents?title=OPeNDAP%20In%20The%20Cloud)): \n",
    "    - OPeNDAP Subsetting Page: https://opendap.earthdata.nasa.gov/collections/C1276812863-GES_DISC/granules/M2T1NXSLV.5.12.4%3AMERRA2_100.tavg1_2d_slv_Nx.19800101.nc4.dmr.html\n",
    "    - Example OPeNDAP URL (No Subsetting): https<nolink>://opendap.earthdata.nasa.gov/collections/C1276812863-GES_DISC/granules/M2T1NXSLV.5.12.4%3AMERRA2_100.tavg1_2d_slv_Nx.19800101.nc4 (Accessing this URL in a browser will cause an error)\n",
    "    - Example OPeNDAP URL (With variable subset): https<nolink>://opendap.earthdata.nasa.gov/collections/C1276812863-GES_DISC/granules/M2T1NXSLV.5.12.4%3AMERRA2_100.tavg1_2d_slv_Nx.19800101.nc4?dap4.ce=/T2M%3B/lat%3B/lon%3B/time (this is an encoded URL, intended to be accessed using wget or curl)\n",
    "- THREDDS ([?](https://docs.unidata.ucar.edu/tds/4.6/adminguide/#:~:text=Overview,other%20remote%20data%20access%20protocols.)): \n",
    "    - Example THREDDS URL Subsetting Page: https://goldsmr4.gesdisc.eosdis.nasa.gov/thredds/dodsC/MERRA2_aggregation/M2T1NXSLV.5.12.4/M2T1NXSLV.5.12.4_Aggregation_1980.ncml.html\n",
    "    - Example THREDDS URL (for `Xarray` access only): https://goldsmr4.gesdisc.eosdis.nasa.gov/thredds/dodsC/MERRA2_aggregation/M2T1NXSLV.5.12.4/M2T1NXSLV.5.12.4_Aggregation_1980.ncml\n",
    "\n",
    "\n",
    "\n",
    "\n"
   ]
  },
  {
   "cell_type": "markdown",
   "id": "00915c09",
   "metadata": {},
   "source": [
    "### Search and Download Full Granule Data using `earthaccess`  <a class=\"anchor\" id=\"=download_full_granules\"></a>\n",
    "\n",
    "The `earthaccess` library can be used to search for granules and download them to your local machine, based on the collection shortname, longname, version, or DOI, gathered from the collection dataset landing page or the Content Metadata Repository. The `search_data` function will search for granules inside the specified temporal and bounding box ranges, and will return a list of URLs to be downloaded. Finally, it will download these URLs, assuming you have been authenticated using your previously-generated Earthdata prerequisite files. This method uses the `fsspec` Python library to download the granules, each of which are stored inside the `results` variable.\n",
    "\n",
    "Please note that `earthaccess` has the ability to query OPeNDAP URLs, but not handle and execute subsetting requests to OPeNDAP servers. The URLs `earthaccess` queries will need to be passed onto `Xarray` and `Pydap`."
   ]
  },
  {
   "cell_type": "code",
   "execution_count": 1,
   "id": "cb1f4694",
   "metadata": {},
   "outputs": [
    {
     "data": {
      "application/vnd.jupyter.widget-view+json": {
       "model_id": "900dadc2160e42a8b4b3ee0d61a64fd8",
       "version_major": 2,
       "version_minor": 0
      },
      "text/plain": [
       "QUEUEING TASKS | :   0%|          | 0/1 [00:00<?, ?it/s]"
      ]
     },
     "metadata": {},
     "output_type": "display_data"
    },
    {
     "data": {
      "application/vnd.jupyter.widget-view+json": {
       "model_id": "95725550c8184b4dad2a179adac67be1",
       "version_major": 2,
       "version_minor": 0
      },
      "text/plain": [
       "PROCESSING TASKS | :   0%|          | 0/1 [00:00<?, ?it/s]"
      ]
     },
     "metadata": {},
     "output_type": "display_data"
    },
    {
     "data": {
      "application/vnd.jupyter.widget-view+json": {
       "model_id": "a970e56546ce4d5faa807a0777ee3c9d",
       "version_major": 2,
       "version_minor": 0
      },
      "text/plain": [
       "COLLECTING RESULTS | :   0%|          | 0/1 [00:00<?, ?it/s]"
      ]
     },
     "metadata": {},
     "output_type": "display_data"
    },
    {
     "name": "stdout",
     "output_type": "stream",
     "text": [
      "<xarray.Dataset>\n",
      "Dimensions:   (lon: 576, lat: 361, time: 24)\n",
      "Coordinates:\n",
      "  * lon       (lon) float64 -180.0 -179.4 -178.8 -178.1 ... 178.1 178.8 179.4\n",
      "  * lat       (lat) float64 -90.0 -89.5 -89.0 -88.5 ... 88.5 89.0 89.5 90.0\n",
      "  * time      (time) datetime64[ns] 1980-01-01T00:30:00 ... 1980-01-01T23:30:00\n",
      "Data variables: (12/47)\n",
      "    CLDPRS    (time, lat, lon) float32 dask.array<chunksize=(1, 91, 144), meta=np.ndarray>\n",
      "    CLDTMP    (time, lat, lon) float32 dask.array<chunksize=(1, 91, 144), meta=np.ndarray>\n",
      "    DISPH     (time, lat, lon) float32 dask.array<chunksize=(1, 91, 144), meta=np.ndarray>\n",
      "    H1000     (time, lat, lon) float32 dask.array<chunksize=(1, 91, 144), meta=np.ndarray>\n",
      "    H250      (time, lat, lon) float32 dask.array<chunksize=(1, 91, 144), meta=np.ndarray>\n",
      "    H500      (time, lat, lon) float32 dask.array<chunksize=(1, 91, 144), meta=np.ndarray>\n",
      "    ...        ...\n",
      "    V250      (time, lat, lon) float32 dask.array<chunksize=(1, 91, 144), meta=np.ndarray>\n",
      "    V2M       (time, lat, lon) float32 dask.array<chunksize=(1, 91, 144), meta=np.ndarray>\n",
      "    V500      (time, lat, lon) float32 dask.array<chunksize=(1, 91, 144), meta=np.ndarray>\n",
      "    V50M      (time, lat, lon) float32 dask.array<chunksize=(1, 91, 144), meta=np.ndarray>\n",
      "    V850      (time, lat, lon) float32 dask.array<chunksize=(1, 91, 144), meta=np.ndarray>\n",
      "    ZLCL      (time, lat, lon) float32 dask.array<chunksize=(1, 91, 144), meta=np.ndarray>\n",
      "Attributes: (12/30)\n",
      "    History:                           Original file generated: Sat May 31 17...\n",
      "    Comment:                           GMAO filename: d5124_m2_jan79.tavg1_2d...\n",
      "    Filename:                          MERRA2_100.tavg1_2d_slv_Nx.19800101.nc4\n",
      "    Conventions:                       CF-1\n",
      "    Institution:                       NASA Global Modeling and Assimilation ...\n",
      "    References:                        http://gmao.gsfc.nasa.gov\n",
      "    ...                                ...\n",
      "    Contact:                           http://gmao.gsfc.nasa.gov\n",
      "    identifier_product_doi:            10.5067/VJAFPLI1CSIV\n",
      "    RangeBeginningDate:                1980-01-01\n",
      "    RangeBeginningTime:                00:00:00.000000\n",
      "    RangeEndingDate:                   1980-01-01\n",
      "    RangeEndingTime:                   23:59:59.000000\n"
     ]
    }
   ],
   "source": [
    "import earthaccess\n",
    "import xarray as xr\n",
    "\n",
    "# This will work if Earthdata prerequisite files have already been generated\n",
    "auth = earthaccess.login()\n",
    "\n",
    "# To download multiple files, change the second temporal parameter\n",
    "results = earthaccess.search_data(\n",
    "    short_name=\"M2T1NXSLV\",\n",
    "    version='5.12.4',\n",
    "    temporal=('1980-01-01', '1980-01-01'), # This will stream one granule, but can be edited for a longer temporal extent\n",
    "    bounding_box=(-180, 0, 180, 90)\n",
    ")\n",
    "\n",
    "# Download granules to local path\n",
    "downloaded_files = earthaccess.download(\n",
    "    results,\n",
    "    local_path='.', # Change this string to download to a different path\n",
    ")\n",
    "\n",
    "# OPTIONAL: Open granules using Xarray\n",
    "ds = xr.open_mfdataset(downloaded_files)\n",
    "print(ds)"
   ]
  },
  {
   "cell_type": "markdown",
   "id": "302361d1",
   "metadata": {},
   "source": [
    "### Search and Stream Granules Using `earthaccess` <a class=\"anchor\" id=\"stream_full_granules\"></a>\n",
    "\n",
    "The `earthaccess` library has the ability to \"stream\" the full data of a granule, or multiple granules, to an Xarray dataset object, without having to download granule data before opening in your current notebook session.\n",
    "\n",
    "***Please note that this will stream the full granule data including every variable to this notebook, which may take extra time and computational resources***. To access one variable at a time or perform subsetting before the data is streamed to the notebook, please access data from an OPeNDAP server, by following the steps in the next section of this notebook."
   ]
  },
  {
   "cell_type": "code",
   "execution_count": 2,
   "id": "c9486fe9",
   "metadata": {},
   "outputs": [
    {
     "data": {
      "application/vnd.jupyter.widget-view+json": {
       "model_id": "2a0ed7581ee04204869491ba4e533826",
       "version_major": 2,
       "version_minor": 0
      },
      "text/plain": [
       "QUEUEING TASKS | :   0%|          | 0/1 [00:00<?, ?it/s]"
      ]
     },
     "metadata": {},
     "output_type": "display_data"
    },
    {
     "data": {
      "application/vnd.jupyter.widget-view+json": {
       "model_id": "a9c7894cc2e6457c9335e26dc5a5d305",
       "version_major": 2,
       "version_minor": 0
      },
      "text/plain": [
       "PROCESSING TASKS | :   0%|          | 0/1 [00:00<?, ?it/s]"
      ]
     },
     "metadata": {},
     "output_type": "display_data"
    },
    {
     "data": {
      "application/vnd.jupyter.widget-view+json": {
       "model_id": "5a1e28df782f4c109d72fc48cb14ff07",
       "version_major": 2,
       "version_minor": 0
      },
      "text/plain": [
       "COLLECTING RESULTS | :   0%|          | 0/1 [00:00<?, ?it/s]"
      ]
     },
     "metadata": {},
     "output_type": "display_data"
    },
    {
     "name": "stdout",
     "output_type": "stream",
     "text": [
      "<xarray.Dataset>\n",
      "Dimensions:   (lon: 576, lat: 361, time: 24)\n",
      "Coordinates:\n",
      "  * lon       (lon) float64 -180.0 -179.4 -178.8 -178.1 ... 178.1 178.8 179.4\n",
      "  * lat       (lat) float64 -90.0 -89.5 -89.0 -88.5 ... 88.5 89.0 89.5 90.0\n",
      "  * time      (time) datetime64[ns] 1980-01-01T00:30:00 ... 1980-01-01T23:30:00\n",
      "Data variables: (12/47)\n",
      "    CLDPRS    (time, lat, lon) float32 dask.array<chunksize=(1, 91, 144), meta=np.ndarray>\n",
      "    CLDTMP    (time, lat, lon) float32 dask.array<chunksize=(1, 91, 144), meta=np.ndarray>\n",
      "    DISPH     (time, lat, lon) float32 dask.array<chunksize=(1, 91, 144), meta=np.ndarray>\n",
      "    H1000     (time, lat, lon) float32 dask.array<chunksize=(1, 91, 144), meta=np.ndarray>\n",
      "    H250      (time, lat, lon) float32 dask.array<chunksize=(1, 91, 144), meta=np.ndarray>\n",
      "    H500      (time, lat, lon) float32 dask.array<chunksize=(1, 91, 144), meta=np.ndarray>\n",
      "    ...        ...\n",
      "    V250      (time, lat, lon) float32 dask.array<chunksize=(1, 91, 144), meta=np.ndarray>\n",
      "    V2M       (time, lat, lon) float32 dask.array<chunksize=(1, 91, 144), meta=np.ndarray>\n",
      "    V500      (time, lat, lon) float32 dask.array<chunksize=(1, 91, 144), meta=np.ndarray>\n",
      "    V50M      (time, lat, lon) float32 dask.array<chunksize=(1, 91, 144), meta=np.ndarray>\n",
      "    V850      (time, lat, lon) float32 dask.array<chunksize=(1, 91, 144), meta=np.ndarray>\n",
      "    ZLCL      (time, lat, lon) float32 dask.array<chunksize=(1, 91, 144), meta=np.ndarray>\n",
      "Attributes: (12/30)\n",
      "    History:                           Original file generated: Sat May 31 17...\n",
      "    Comment:                           GMAO filename: d5124_m2_jan79.tavg1_2d...\n",
      "    Filename:                          MERRA2_100.tavg1_2d_slv_Nx.19800101.nc4\n",
      "    Conventions:                       CF-1\n",
      "    Institution:                       NASA Global Modeling and Assimilation ...\n",
      "    References:                        http://gmao.gsfc.nasa.gov\n",
      "    ...                                ...\n",
      "    Contact:                           http://gmao.gsfc.nasa.gov\n",
      "    identifier_product_doi:            10.5067/VJAFPLI1CSIV\n",
      "    RangeBeginningDate:                1980-01-01\n",
      "    RangeBeginningTime:                00:00:00.000000\n",
      "    RangeEndingDate:                   1980-01-01\n",
      "    RangeEndingTime:                   23:59:59.000000\n"
     ]
    }
   ],
   "source": [
    "import earthaccess\n",
    "import xarray as xr\n",
    "\n",
    "# This will work if Earthdata prerequisite files have already been generated\n",
    "auth = earthaccess.login()\n",
    "\n",
    "# We recommend only streaming a few granules at a time, as some collections can be quite large\n",
    "results = earthaccess.search_data(\n",
    "    short_name=\"M2T1NXSLV\",\n",
    "    version='5.12.4',\n",
    "    temporal=('1980-01-01', '1980-01-01'), # This will stream one granule, but can be edited for a longer temporal extent\n",
    "    bounding_box=(-180, 0, 180, 90)\n",
    ")\n",
    "\n",
    "fs = earthaccess.open(results) # Extracts URLs from the results variable\n",
    "\n",
    "# The open_mfdataset() function must be used when opening one or multiple granules with earthaccess\n",
    "ds = xr.open_mfdataset(fs) # Opens the granules and concatenates them along the time dimension\n",
    "print(ds)\n"
   ]
  },
  {
   "attachments": {},
   "cell_type": "markdown",
   "id": "oRj2te56DwTr",
   "metadata": {
    "id": "oRj2te56DwTr"
   },
   "source": [
    "### Search, Subset, and Stream Granule Data From OPeNDAP Servers <a class=\"anchor\" id=\"opendap\"></a>\n",
    "\n",
    "Rather than having to download or stream an entire granule, you can access data from an OPeNDAP server, which will allow you to view dataset metadata and subset single or multiple varibles before its data is streamed to the current notebook session."
   ]
  },
  {
   "attachments": {},
   "cell_type": "markdown",
   "id": "185538db",
   "metadata": {},
   "source": [
    "#### Option 1: Subset URLs Using `xarray` and `pydap` <a class=\"anchor\" id=\"opendap_xarray\"></a>\n",
    "\n",
    "The `xarray` library offers a suite of various data computation, subsetting, and plotting capabilities, and can perform subsetting operations on OPeNDAP-enabled granules, as long as the user has either a `.edl_token` or a valid Earthdata username and password. This method utilizes the `pydap` engine to handle newer DAP4-protocol Cloud OPeNDAP URLs, and authenticate using either a token, or prompting for a username and password. For more information and NASA Earthdata OPeNDAP data access guides, please visit the `pydap` documentation [here](https://pydap.github.io/pydap/en/intro.html).\n",
    "\n",
    "In the code snippet below, OPeNDAP URLs are queried and parsed from the CMR using the `earthaccess` library. Next, a DAP4 constraint expression will be appended to each URL if you wish to only access a few variables at a time. Variables and their group syntax for each OPeNDAP-enabled collection can be found by following [this guide](https://disc.gsfc.nasa.gov/information/documents?keywords=opendap&title=OPeNDAP%20In%20The%20Cloud). After, you can choose between two authentication methods: being prompted for your Earthdata username and password, or by using a `.edl_token` file. Finally, the granules are opened in `Xarray` using the `pydap` engine, and a latitude/longitude subset is made using `xarray`, further demonstrating the subsetting capabilities of OPeNDAP URLs.\n",
    "\n",
    "**Warning:** When accessing data from OPeNDAP servers using a  `.netrc` file, rather than the authentication methods demonstrated below, you will experience errors if your `.dodsrc` prerequisite file is not generated and properly stored in addition to your `.netrc` file. Finally, the `session` parameter will need to be removed from the `open_mfdataset` command.\n",
    "\n",
    "If you wish to save the subsetted granule locally, please use the `to_dataset` function, documented here: https://docs.xarray.dev/en/latest/generated/xarray.Dataset.to_netcdf.html\n"
   ]
  },
  {
   "cell_type": "code",
   "execution_count": 7,
   "id": "983bf113",
   "metadata": {},
   "outputs": [
    {
     "data": {
      "text/plain": [
       "<matplotlib.collections.QuadMesh at 0x17df34dc0>"
      ]
     },
     "execution_count": 7,
     "metadata": {},
     "output_type": "execute_result"
    },
    {
     "data": {
      "image/png": "[encoded data removed]",
      "text/plain": [
       "<Figure size 640x480 with 2 Axes>"
      ]
     },
     "metadata": {},
     "output_type": "display_data"
    }
   ],
   "source": [
    "import xarray as xr\n",
    "import os\n",
    "import earthaccess\n",
    "import getpass\n",
    "import requests\n",
    "from pydap.net import create_session\n",
    "%matplotlib inline\n",
    "\n",
    "# Create search query for 1980-01-01 Cloud OPeNDAP URL\n",
    "results = earthaccess.search_data(\n",
    "    short_name=\"M2T1NXSLV\",\n",
    "    version='5.12.4',\n",
    "    temporal=('1980-01-01', '1980-01-01'), # This will stream one granule, but can be edited for a longer temporal extent\n",
    "    bounding_box=(-180, 0, 180, 90)\n",
    ")\n",
    "\n",
    "# Parse out URL from request, add to OPeNDAP URLs list for querying multiple granules with constraint expressions\n",
    "opendap_urls = []\n",
    "for item in results:\n",
    "    for urls in item['umm']['RelatedUrls']:  # Iterate over RelatedUrls in each request step\n",
    "        if 'OPENDAP' in urls.get('Description', '').upper():  # Check if 'OPENDAP' is in the Description\n",
    "            # Extract OPeNDAP URL, replace \n",
    "            url = urls['URL'].replace('https', 'dap4')\n",
    "\n",
    "            # Subset T2M, lat, lon, and time\n",
    "            # To view all variables, comment out these two lines\n",
    "            ce = \"?dap4.ce=/{}%3B/{}%3B/{}%3B/{}\".format(\"T2M\", \"lat\", \"lon\", \"time\")\n",
    "            url = url + ce\n",
    "\n",
    "            # Add URL to list\n",
    "            opendap_urls.append(url)\n",
    "\n",
    "# Use netrc file to authenticate\n",
    "my_session = create_session()\n",
    "\n",
    "# Uncomment the following block to use the .edl_token method instead of a netrc file\n",
    "'''\n",
    "# Set file path to root\n",
    "token_file_path = os.path.join(os.path.expanduser(\"~\"), \".edl_token\")\n",
    "\n",
    "# Read the token from the .edl_token file\n",
    "with open(token_file_path, 'r') as token_file:\n",
    "    token = token_file.read().strip()  # Ensure to strip any newlines or extra spaces\n",
    "    my_session = create_session(session_kwargs={\"token\": token})\n",
    "'''\n",
    "\n",
    "try:\n",
    "    # Load dataset object and metadata, but don't open the values yet\n",
    "    # NOTE: When opening HDF files, the group to be accessed must be specified with the \"group=\" parameter. \n",
    "    #       E.g., for GPM IMERG, group=\"Grid\" must be entered or an error will occur\n",
    "    # Remove the session parameter if you are just using a .netrc file to authenticate\n",
    "    ds = xr.open_mfdataset(opendap_urls, engine=\"pydap\", session=my_session)\n",
    "except OSError as e:\n",
    "    print('Error', e)\n",
    "    print('Please check that your .edl_token file exists and is valid, or that your username/password were entered correctly.')\n",
    "    raise\n",
    "\n",
    "# Define latitude and longitude bounds for CONUS\n",
    "lat_min, lat_max = 25, 50  # Latitude bounds\n",
    "lon_min, lon_max = -125, -66  # Longitude bounds\n",
    "\n",
    "# Subset the dataset based on lat/lon bounds, which is performed server-side\n",
    "ds_conus = ds.sel(lat=slice(lat_min, lat_max), lon=slice(lon_min, lon_max))\n",
    "\n",
    "# Plot the first timestep of the 2-meter temperature variable from the subsetted dataset\n",
    "ds_conus['T2M'].isel(time=0).plot(cmap='coolwarm')"
   ]
  },
  {
   "cell_type": "markdown",
   "id": "8c39cf00",
   "metadata": {},
   "source": [
    "#### Option 2: Search, Subset, and Stream Using `netcdf4-python` <a class=\"anchor\" id=\"opendap_netcdf4-python\"></a>\n",
    "\n",
    "`netCDF4-python` is a Python library that uses the [netCDF-c](https://github.com/Unidata/netcdf-c) library to open and read netCDF4 files. It can be used to remotely access OPeNDAP-enabled netCDF4 granules. Similar to the above examples, this code block will query a MERRA-2 1980-01-01 granule, create a constraint expression subsetting `T2M`, `lat`, and `lon`, before opening with the `netcdf4-python` library.\n",
    "\n",
    "**Warning:** When accessing data from OPeNDAP servers using `netcdf4-python`, you will experience errors if your `.dodsrc` prerequisite file is not generated and properly stored in addition to your `.netrc` file."
   ]
  },
  {
   "cell_type": "code",
   "execution_count": 4,
   "id": "62af191c",
   "metadata": {},
   "outputs": [
    {
     "name": "stdout",
     "output_type": "stream",
     "text": [
      "[[[244.07703 244.07703 244.07703 ... 244.07703 244.07703 244.07703]\n",
      "  [244.01453 244.02234 244.03015 ... 243.99109 243.9989  244.00671]\n",
      "  [244.55359 244.5614  244.57703 ... 244.52234 244.53015 244.54578]\n",
      "  ...\n",
      "  [253.21375 253.22156 253.22937 ... 253.19226 253.20007 253.20789]\n",
      "  [253.93445 253.9364  253.9403  ... 253.92468 253.92859 253.93054]\n",
      "  [254.40125 254.40125 254.40125 ... 254.40125 254.40125 254.40125]]\n",
      "\n",
      " [[243.79819 243.79819 243.79819 ... 243.79819 243.79819 243.79819]\n",
      "  [243.88412 243.89194 243.89975 ... 243.85287 243.86069 243.87631]\n",
      "  [244.56381 244.57944 244.58725 ... 244.54037 244.54819 244.556  ]\n",
      "  ...\n",
      "  [252.97006 252.97787 252.9896  ... 252.94272 252.95053 252.96225]\n",
      "  [253.75717 253.75912 253.76303 ... 253.7474  253.75131 253.75327]\n",
      "  [254.31381 254.31381 254.31381 ... 254.31381 254.31381 254.31381]]\n",
      "\n",
      " [[243.5383  243.5383  243.5383  ... 243.5383  243.5383  243.5383 ]\n",
      "  [243.75705 243.76486 243.77267 ... 243.73361 243.74142 243.74924]\n",
      "  [244.61642 244.62424 244.63205 ... 244.59299 244.6008  244.60861]\n",
      "  ...\n",
      "  [252.69064 252.70236 252.71408 ... 252.65549 252.6672  252.67892]\n",
      "  [253.55392 253.55783 253.56174 ... 253.54611 253.55002 253.55392]\n",
      "  [254.21408 254.21408 254.21408 ... 254.21408 254.21408 254.21408]]\n",
      "\n",
      " ...\n",
      "\n",
      " [[243.48914 243.48914 243.48914 ... 243.48914 243.48914 243.48914]\n",
      "  [243.7157  243.72351 243.73132 ... 243.68445 243.69226 243.70007]\n",
      "  [244.4657  244.48132 244.50476 ... 244.4032  244.41882 244.44226]\n",
      "  ...\n",
      "  [247.75085 247.75085 247.74695 ... 247.76257 247.75867 247.75476]\n",
      "  [248.72742 248.72351 248.7196  ... 248.73523 248.73132 248.72742]\n",
      "  [249.1571  249.1571  249.1571  ... 249.1571  249.1571  249.1571 ]]\n",
      "\n",
      " [[243.43158 243.43158 243.43158 ... 243.43158 243.43158 243.43158]\n",
      "  [243.68939 243.70502 243.71283 ... 243.65814 243.67377 243.68158]\n",
      "  [244.46283 244.48627 244.50189 ... 244.40814 244.43158 244.4472 ]\n",
      "  ...\n",
      "  [247.65424 247.65033 247.65033 ... 247.65814 247.65814 247.65424]\n",
      "  [248.72455 248.72064 248.71674 ... 248.73236 248.72845 248.72455]\n",
      "  [249.17377 249.17377 249.17377 ... 249.17377 249.17377 249.17377]]\n",
      "\n",
      " [[243.38226 243.38226 243.38226 ... 243.38226 243.38226 243.38226]\n",
      "  [243.6557  243.66351 243.67133 ... 243.62445 243.64008 243.64789]\n",
      "  [244.45258 244.4682  244.48383 ... 244.39789 244.41351 244.42914]\n",
      "  ...\n",
      "  [247.49554 247.49554 247.49554 ... 247.49554 247.49554 247.49554]\n",
      "  [248.66351 248.6596  248.6596  ... 248.66742 248.66742 248.66351]\n",
      "  [249.14398 249.14398 249.14398 ... 249.14398 249.14398 249.14398]]]\n"
     ]
    }
   ],
   "source": [
    "import netCDF4 as nc4\n",
    "import earthaccess\n",
    "\n",
    "# Create search query for 1980-01-01 Cloud OPeNDAP URL\n",
    "results = earthaccess.search_data(\n",
    "    short_name=\"M2T1NXSLV\",\n",
    "    version='5.12.4',\n",
    "    temporal=('1980-01-01', '1980-01-01'), # This will stream one granule, but can be edited for a longer temporal extent\n",
    "    bounding_box=(-180, 0, 180, 90)\n",
    ")\n",
    "\n",
    "# Authenticate with earthaccess\n",
    "auth = earthaccess.login()\n",
    "\n",
    "# Parse out URL from request, add to OPeNDAP URLs list for querying multiple granules\n",
    "opendap_urls = []\n",
    "for item in results:\n",
    "    for urls in item['umm']['RelatedUrls']:  # Iterate over RelatedUrls in each request step\n",
    "        if 'OPENDAP' in urls.get('Description', '').upper():  # Check if 'OPENDAP' is in the Description\n",
    "            # Extract OPeNDAP URL\n",
    "            url = urls['URL']\n",
    "            # Add URL to list\n",
    "            opendap_urls.append(url)\n",
    "\n",
    "try:\n",
    "    # Open the dataset (be sure to specify the correct dimension for aggregation)\n",
    "    nc = nc4.MFDataset(opendap_urls, aggdim=\"time\")\n",
    "    # Stream the 2-meter temperature variable\n",
    "    print(nc['T2M'][:])\n",
    "except OSError as e:\n",
    "    print('Error', e)\n",
    "    print('Please check that your .dodsrc files are in their correct locations, or that your .netrc file has the correct username and password.')\n",
    "    raise"
   ]
  },
  {
   "attachments": {},
   "cell_type": "markdown",
   "id": "c938f838",
   "metadata": {},
   "source": [
    "### Search, Subset, and Stream Granule Data from THREDDS Servers Using Xarray <a class=\"anchor\" id=\"thredds\"></a>\n",
    "\n",
    "Datasets that include <code>.ncml</code> aggregation, like some provided through THREDDS, may be useful for quickly subsetting multiple granules into a single data array.\n",
    "\n",
    "This operation requires a <code>.dodsrc</code> file in your root and working directories, and a <code>.netrc</code> file in your root directory. Running `auth = earthaccess.login()` will create both of these files, and can be removed after the first run, or can be removed entirely if these files are already present.\n",
    "\n",
    "To find the THREDDS URLs, please visit the dataset landing page for your desired collection, and from the \"Web Services\" dropdown, select \"THREDDS Data\". The dataset landing page for the collection below can be found [here](https://disc.gsfc.nasa.gov/datasets/M2T1NXSLV_5.12.4/summary?keywords=M2T1NXSLV_5.12.4).\n",
    "\n",
    "**Warning:** Please use a reasonable spatiotemporal subset when calling from THREDDS servers. Subsets that are too large will cause data access errors, or rate limiting on your IP address.\n",
    "\n",
    "We recommend using the `xarray` library when interacting with THREDDS URLs, due to its built-in authentication and subsetting capabilities."
   ]
  },
  {
   "cell_type": "code",
   "execution_count": 5,
   "id": "89f27aa7",
   "metadata": {},
   "outputs": [
    {
     "name": "stdout",
     "output_type": "stream",
     "text": [
      "<xarray.DataArray 'T2M' (time: 72, lat: 5, lon: 3)>\n",
      "[1080 values with dtype=float32]\n",
      "Coordinates:\n",
      "  * lon      (lon) float64 -88.75 -88.12 -87.5\n",
      "  * lat      (lat) float64 41.0 41.5 42.0 42.5 43.0\n",
      "  * time     (time) datetime64[ns] 1980-01-01T00:30:00 ... 1980-01-03T23:30:00\n",
      "Attributes:\n",
      "    long_name:       2-meter_air_temperature\n",
      "    units:           K\n",
      "    fmissing_value:  1000000000000000.0\n",
      "    standard_name:   2-meter_air_temperature\n",
      "    vmax:            1000000000000000.0\n",
      "    vmin:            -1000000000000000.0\n",
      "    valid_range:     [-1.e+15  1.e+15]\n",
      "    _ChunkSizes:     [  1  91 144]\n"
     ]
    }
   ],
   "source": [
    "import xarray as xr\n",
    "import earthaccess\n",
    "\n",
    "# This will work if Earthdata prerequisite files have already been generated\n",
    "auth = earthaccess.login()\n",
    "\n",
    "# Subsetting a .ncml file URL:\n",
    "URL = 'https://goldsmr4.gesdisc.eosdis.nasa.gov/thredds/dodsC/MERRA2_aggregation/M2T1NXSLV.5.12.4/M2T1NXSLV.5.12.4_Aggregation_1980.ncml'\n",
    "\n",
    "lat_slice = slice(41, 43)\n",
    "lon_slice = slice(-89, -87)\n",
    "time_slice = slice('1980-01-01', '1980-01-03') # Create a 3-day subset\n",
    "\n",
    "try:\n",
    "    # Access the THREDDS server ncml file, which will handle subset requests\n",
    "    ds = xr.open_dataset(URL)\n",
    "    # Send the subset request and stream data to the notebook using the bounding box and time slice\n",
    "    ds_subset = ds.sel(lat=lat_slice,lon=lon_slice,time=time_slice)\n",
    "    # Open the 2-meter temperature variable\n",
    "    print(ds_subset['T2M'])\n",
    "except OSError as e:\n",
    "    print('Error', e)\n",
    "    print('Please check that your .dodsrc files are in their correct locations, or that your .netrc file has the correct username and password.')\n",
    "    raise"
   ]
  },
  {
   "cell_type": "markdown",
   "id": "4a840465",
   "metadata": {},
   "source": [
    "### Search, Subset, and Stream Granule Data from the Level 3/4 Subsetter and Regridder API <a class=\"anchor\" id=\"l34rs\"></a>\n",
    "\n",
    "The Level 3/4 Subsetter and Regridder is a service offered by GES DISC that can subset and regrid various Level 3 and 4 collections. It has an API that can be accessed programmatically to accept the subset request, and its results will be returned to the notebook for downloading.\n",
    "\n",
    "#### Please visit [this how-to](https://disc.gsfc.nasa.gov/information/howto?keywords=level%203&title=How%20to%20Use%20the%20Web%20Services%20API%20for%20Subsetting%20MERRA-2%20Data) for more information."
   ]
  },
  {
   "cell_type": "markdown",
   "id": "d68e1bb8",
   "metadata": {},
   "source": []
  }
 ],
 "metadata": {
  "colab": {
   "collapsed_sections": [],
   "name": "Data_Access_Using_Python_Draft",
   "provenance": []
  },
  "kernelspec": {
   "display_name": "Python 3 (ipykernel)",
   "language": "python",
   "name": "python3"
  },
  "language_info": {
   "codemirror_mode": {
    "name": "ipython",
    "version": 3
   },
   "file_extension": ".py",
   "mimetype": "text/x-python",
   "name": "python",
   "nbconvert_exporter": "python",
   "pygments_lexer": "ipython3",
   "version": "3.10.18"
  }
 },
 "nbformat": 4,
 "nbformat_minor": 5
}
