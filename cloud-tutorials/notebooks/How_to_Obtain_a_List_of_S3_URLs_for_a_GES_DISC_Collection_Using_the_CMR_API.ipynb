{
 "cells": [
  {
   "cell_type": "markdown",
   "id": "narrative-walnut",
   "metadata": {
    "id": "narrative-walnut"
   },
   "source": [
    "# Obtain a List of S3 URLs for a GES DISC Collection Using Python\n",
    "### Authors: Chris Battisto, Alexis Hunzinger\n",
    "### Date Authored: 1-31-22\n",
    "### Date Updated: 11-12-24\n",
    "\n",
    "### Timing\n",
    "\n",
    "Exercise: 15 minutes\n",
    "\n",
    "### Overview\n",
    "\n",
    "This notebook demonstrates how to obtain a list of S3 URLs for desired cloud-hosted GES DISC granules using the Python libraries, `earthaccess` and `python-cmr`.\n",
    "\n",
    "Two methods are shown, one with `earthaccess` and one with `python-cmr`. Which one is best for you?\n",
    "- `python-cmr`:\n",
    "    -  Aids only in **searching** for data, without direct data access capabilities.\n",
    "    -  Provides methods to preemptively check for invalid input and handle URL encoding required by the [Common Metadata Repository (CMR) API](https://cmr.earthdata.nasa.gov/search/).\n",
    "    -  Allows extensive customization by accepting all CMR API parameters.\n",
    "- `earthaccess`:\n",
    "    - Designed for **searching, downloading or streaming** NASA Earth science data with minimal code.\n",
    "    - Makes querying the CMR API intuitive and less error-prone, but does not allow for customized querying.\n",
    "    - Includes functions to access data, optimizing the data source based on your computing environment (cloud or local).\n",
    "    - Continually under development, with incomplete documentation.\n",
    "\n",
    "### Prerequisites\n",
    "\n",
    "This notebook was written using Python 3.8, and requires these libraries and files: \n",
    "- earthaccess\n",
    "- python-cmr\n",
    "\n",
    "Identify your data collection of interest and acquire its shortname or concept ID.\n",
    "- These can be found on the collection's Dataset Landing Page on the GES DISC website. For example, this is the Dataset Landing Page for Hourly MERRA-2 SLV: https://disc.gsfc.nasa.gov/datasets/M2T1NXSLV_5.12.4/summary  \n",
    "- Hover your mouse over the \"Cloud Enabled\" badge to find the collection's Concept ID, or find the collection's shortname in the Product Summary tab.\n",
    "\n",
    "![](../../images/GESDISC-DSL-Shortname-ConceptID.png)\n"
   ]
  },
  {
   "cell_type": "markdown",
   "id": "t41Inu8NiQiX",
   "metadata": {
    "id": "t41Inu8NiQiX"
   },
   "source": [
    "## Option 1: `earthaccess`\n",
    "\n",
    "### Import libraries"
   ]
  },
  {
   "cell_type": "code",
   "execution_count": 1,
   "id": "seeing-tonight",
   "metadata": {
    "id": "seeing-tonight"
   },
   "outputs": [],
   "source": [
    "import earthaccess"
   ]
  },
  {
   "cell_type": "markdown",
   "id": "russian-night",
   "metadata": {
    "id": "russian-night"
   },
   "source": [
    "### Search for granules using the function, `search_data()`\n",
    "\n",
    "It is helpful to know some identifying information about the collection you're interested in. The table below lists some data collection identifiers and corresponding `earthaccess` parameters.\n",
    "| Data Collection Identifier | Parameter |\n",
    "| -------- | ------- |\n",
    "| Concept ID | `concept_id` |\n",
    "| Dataset shortname | `short_name` |\n",
    "| DOI    | `doi`    |\n",
    "| Version| `version` |\n",
    "\n",
    "Further customize your search with spatial and temporal bounds (i.e. `bounding box`, `temporal`). Read more about the `search_data()` function on the [earthaccess Read The Docs](https://earthaccess.readthedocs.io/en/latest/user-reference/api/api/#earthaccess.api.search_data) page. "
   ]
  },
  {
   "cell_type": "code",
   "execution_count": 22,
   "id": "certified-gather",
   "metadata": {
    "id": "certified-gather"
   },
   "outputs": [
    {
     "name": "stdout",
     "output_type": "stream",
     "text": [
      "Granules found: 3\n"
     ]
    }
   ],
   "source": [
    "short_name = 'M2T1NXSLV'\n",
    "version = '5.12.4'\n",
    "start_time = '2022-09-25'\n",
    "end_time = '2022-09-27'\n",
    "\n",
    "granules = earthaccess.search_data(\n",
    "    short_name = short_name,\n",
    "    version = version,\n",
    "    cloud_hosted = True,\n",
    "    bounding_box = (-10,20,10,50),\n",
    "    temporal = (start_time,end_time),\n",
    ")"
   ]
  },
  {
   "cell_type": "markdown",
   "id": "90a68b75-6091-4b6e-bbdc-4acd7cbca3c3",
   "metadata": {},
   "source": [
    "### Identify the S3 URL from each granule response and save to a list\n",
    "\n",
    "To ensure the data link in the data search response is for an S3 URL, specify `access=\"direct\"` which refers to direct S3 access."
   ]
  },
  {
   "cell_type": "code",
   "execution_count": 19,
   "id": "0eeed8a6-93c3-446c-a306-ce007fc3891d",
   "metadata": {},
   "outputs": [
    {
     "data": {
      "text/plain": [
       "[['s3://gesdisc-cumulus-prod-protected/MERRA2/M2T1NXSLV.5.12.4/2022/09/MERRA2_400.tavg1_2d_slv_Nx.20220925.nc4'],\n",
       " ['s3://gesdisc-cumulus-prod-protected/MERRA2/M2T1NXSLV.5.12.4/2022/09/MERRA2_400.tavg1_2d_slv_Nx.20220926.nc4'],\n",
       " ['s3://gesdisc-cumulus-prod-protected/MERRA2/M2T1NXSLV.5.12.4/2022/09/MERRA2_400.tavg1_2d_slv_Nx.20220927.nc4']]"
      ]
     },
     "execution_count": 19,
     "metadata": {},
     "output_type": "execute_result"
    }
   ],
   "source": [
    "s3_urls = [granule.data_links(access=\"direct\") for granule in granules]\n",
    "s3_urls"
   ]
  },
  {
   "cell_type": "markdown",
   "id": "breathing-oxide",
   "metadata": {
    "id": "breathing-oxide"
   },
   "source": [
    "***\n",
    "## Option 2: `python-cmr`\n",
    "\n",
    "### Import libraries\n",
    "The `python-cmr` package contains many functions that aid in searching the CMR Catalog. Here we will only use the `GranuleQuery()` function."
   ]
  },
  {
   "cell_type": "code",
   "execution_count": 12,
   "id": "d24e0300-992b-444f-8507-66b7276f1229",
   "metadata": {},
   "outputs": [],
   "source": [
    "from cmr import GranuleQuery"
   ]
  },
  {
   "cell_type": "markdown",
   "id": "266be203-1481-4e70-8098-72b441349095",
   "metadata": {},
   "source": [
    "### Search for granules using the function, `GranuleQuery()`\n",
    "\n",
    "It is helpful to know some identifying information about the collection you're interested in. The table below lists some data collection identifiers and corresponding `python-cmr` parameters. \n",
    "| Data Collection Identifier | Parameter |\n",
    "| -------- | ------- |\n",
    "| Concept ID | `concept_id` |\n",
    "| Dataset shortname | `short_name` |\n",
    "| Version| `version` |\n",
    "\n",
    "Further customize your search with spatial and temporal bounds (i.e. `bounding box`, `point`, `polygon`, `temporal`). Read more about `GranuleQuery()` and other functions on the [python-cmr README](https://github.com/nasa/python_cmr/blob/develop/README.md)."
   ]
  },
  {
   "cell_type": "code",
   "execution_count": 20,
   "id": "introductory-wyoming",
   "metadata": {
    "id": "introductory-wyoming",
    "outputId": "403cd50f-10f9-4bc1-ace1-c623d81345f0"
   },
   "outputs": [],
   "source": [
    "short_name = 'M2T1NXSLV'\n",
    "version = '5.12.4'\n",
    "start_time = '2022-09-25T00:00:00Z'\n",
    "end_time = '2022-09-27T00:00:00Z'\n",
    "\n",
    "api = GranuleQuery()\n",
    "granules = api.short_name(short_name).version(version).temporal(start_time,end_time).get()"
   ]
  },
  {
   "cell_type": "markdown",
   "id": "b5e0d5c5-27af-4605-a114-140dcc590e85",
   "metadata": {},
   "source": [
    "### Identify the S3 URL from each granule response and save to a list"
   ]
  },
  {
   "cell_type": "code",
   "execution_count": 21,
   "id": "a0880dee-c5ad-483f-9778-a2b04ea78d9a",
   "metadata": {},
   "outputs": [
    {
     "data": {
      "text/plain": [
       "['s3://gesdisc-cumulus-prod-protected/MERRA2/M2T1NXSLV.5.12.4/2022/09/MERRA2_400.tavg1_2d_slv_Nx.20220925.nc4',\n",
       " 's3://gesdisc-cumulus-prod-protected/MERRA2/M2T1NXSLV.5.12.4/2022/09/MERRA2_400.tavg1_2d_slv_Nx.20220926.nc4',\n",
       " 's3://gesdisc-cumulus-prod-protected/MERRA2/M2T1NXSLV.5.12.4/2022/09/MERRA2_400.tavg1_2d_slv_Nx.20220927.nc4']"
      ]
     },
     "execution_count": 21,
     "metadata": {},
     "output_type": "execute_result"
    }
   ],
   "source": [
    "s3_urls = []\n",
    "for granule in granules:\n",
    "    for link in granule.get('links',[]):\n",
    "        if 'rel' in link and 'href' in link and 'inherited' not in link:\n",
    "            if 'http://esipfed.org/ns/fedsearch/1.1/s3#' in link['rel']: # It's an s3 url\n",
    "                s3_urls.append(link['href'])\n",
    "\n",
    "s3_urls"
   ]
  }
 ],
 "metadata": {
  "colab": {
   "name": "CMR_Cloud_Search.ipynb",
   "provenance": []
  },
  "kernelspec": {
   "display_name": "Python 3 (ipykernel)",
   "language": "python",
   "name": "python3"
  },
  "language_info": {
   "codemirror_mode": {
    "name": "ipython",
    "version": 3
   },
   "file_extension": ".py",
   "mimetype": "text/x-python",
   "name": "python",
   "nbconvert_exporter": "python",
   "pygments_lexer": "ipython3",
   "version": "3.10.14"
  }
 },
 "nbformat": 4,
 "nbformat_minor": 5
}
