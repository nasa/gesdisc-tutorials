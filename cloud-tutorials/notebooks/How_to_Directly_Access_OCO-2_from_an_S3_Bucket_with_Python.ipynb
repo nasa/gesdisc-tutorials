{
 "cells": [
  {
   "cell_type": "markdown",
   "id": "bff27074-9704-4f78-8fae-c1313246222a",
   "metadata": {},
   "source": [
    "# How to Directly Access OCO-2 Data from an S3 Bucket with Python\n",
    "### Author: Jon Hobbs, Alexis Hunzinger\n",
    "### Date Authored: 6-10-25\n",
    "\n",
    "### Timing\n",
    "\n",
    "Exercise: 15 minutes\n",
    "\n",
    "<p></p>\n",
    "\n",
    "<div style=\"background:#fc9090;border:1px solid #cccccc;padding:5px 10px;\"><big><b>Note:  </b>Because this notebook uses the S3 protocol, <em><strong>it will only run in an environment with <a href=\"https://disc.gsfc.nasa.gov/information/glossary?keywords=%22earthdata%20cloud%22&amp;title=AWS%20region\">us-west-2 AWS access</a></strong></em>.</big></div>\n",
    "\n",
    "### Overview\n",
    "\n",
    "This notebook provides a quick demonstration on accessing and summarizing products from the Orbiting Carbon Observatory-2 (OCO-2) hosted via an Amazon S3 bucket. It demonstrates how to access an S3 bucket with the S3FS library, how to read data with xarray, and how to quickly compute and plot small-area aggregate estimates of atmospheric carbon dioxide.\n",
    "\n",
    "Additional resources for identifying S3 URLs for NASA datasets and for accessing them can be found in the GES DISC cloud tutorials and documentation for the earthaccess Python library.\n",
    "\n",
    "* [Obtain a List of S3 URLs](https://github.com/nasa/gesdisc-tutorials/blob/main/cloud-tutorials/notebooks/How_to_Obtain_a_List_of_S3_URLs_for_GES_DISC_Collection_Using_Python.ipynb)\n",
    "* [Accessing MERRA-2 from S3 Bucket](https://github.com/nasa/gesdisc-tutorials/blob/main/cloud-tutorials/notebooks/How_to_Directly_Access_MERRA-2_Data_from_an_S3_Bucket.ipynb)\n",
    "* [README for earthaccess Python library](https://github.com/nsidc/earthaccess)"
   ]
  },
  {
   "cell_type": "markdown",
   "id": "2ad96bb8-9ed6-4262-8126-b859798cca33",
   "metadata": {},
   "source": [
    "## Import libraries"
   ]
  },
  {
   "cell_type": "code",
   "execution_count": 31,
   "id": "8970d680-c7d9-4566-a54e-4055a43205a6",
   "metadata": {},
   "outputs": [],
   "source": [
    "import earthaccess\n",
    "import xarray as xr\n",
    "import pandas as pd\n",
    "import numpy as np\n",
    "\n",
    "import boto3\n",
    "import warnings\n",
    "from IPython.display import display, Markdown\n",
    "\n",
    "warnings.filterwarnings('ignore')\n",
    "%matplotlib inline"
   ]
  },
  {
   "cell_type": "markdown",
   "id": "8935c8ff-dfca-41c2-8249-50ac08705fcb",
   "metadata": {},
   "source": [
    "## AWS Region Check\n",
    "\n",
    "A common error when executing this notebook occurs when the notebook is run outside of the us-west-2 AWS region. An error message is displayed if outside of the AWS us-west-2 region. \n",
    "\n",
    "*This cell is not necessary to access the S3 buckets for users inside the us-west-2 region, and can be commented out or deleted at the users' discretion.*"
   ]
  },
  {
   "cell_type": "code",
   "execution_count": 13,
   "id": "291c2625-1b3f-44a5-9c53-a82889deee0b",
   "metadata": {},
   "outputs": [
    {
     "data": {
      "text/markdown": [
       "### us-west-2 Region Check: &#x2705;"
      ],
      "text/plain": [
       "<IPython.core.display.Markdown object>"
      ]
     },
     "metadata": {},
     "output_type": "display_data"
    }
   ],
   "source": [
    "if (boto3.client('s3').meta.region_name == 'us-west-2'):\n",
    "    display(Markdown('### us-west-2 Region Check: &#x2705;'))\n",
    "else:\n",
    "    display(Markdown('### us-west-2 Region Check: &#10060;'))\n",
    "    raise ValueError('Your notebook is not running inside the AWS us-west-2 region, and will not be able to directly access NASA Earthdata S3 buckets')"
   ]
  },
  {
   "cell_type": "markdown",
   "id": "8f3d93e0-46da-4378-96f4-c5e088a796fe",
   "metadata": {},
   "source": [
    "## Authentication\n",
    "\n",
    "Access to NASA data requires NASA Earthdata authentication. We recommend authenticating your Earthdata Login (EDL) information using the `earthaccess` library as follows:"
   ]
  },
  {
   "cell_type": "code",
   "execution_count": 16,
   "id": "b8661afc-5f95-415f-83ba-07455aa3683b",
   "metadata": {},
   "outputs": [],
   "source": [
    "auth = earthaccess.login(strategy=\"netrc\") # works if the EDL login already been persisted to a netrc\n",
    "if not auth.authenticated:\n",
    "    # ask for EDL credentials and persist them in a .netrc file\n",
    "    auth = earthaccess.login(strategy=\"interactive\", persist=True)"
   ]
  },
  {
   "cell_type": "markdown",
   "id": "4a26998d-24bf-4f3d-a537-ad532db6dd48",
   "metadata": {},
   "source": [
    "## Search \n",
    "\n",
    "### Search for OCO-2 products in the CMR catalog using `earthaccess`\n",
    "\n",
    "Request the desired OCO-2 products for specified date range and product version. Here the search is by the product's short name. The [OCO-2 \"lite\" CO2 product](https://doi.org/10.5067/8E4VLCK16O6Q) is used for this analysis. "
   ]
  },
  {
   "cell_type": "code",
   "execution_count": 10,
   "id": "f465f9e8-9017-44aa-b0af-f647e71cd982",
   "metadata": {},
   "outputs": [],
   "source": [
    "short_name = 'OCO2_L2_Lite_FP'\n",
    "version = '11.1r'\n",
    "start_time = '2020-07-05'\n",
    "end_time = '2020-07-07'\n",
    "\n",
    "results = earthaccess.search_data(\n",
    "    short_name=short_name,\n",
    "    version=version,\n",
    "    cloud_hosted=True,\n",
    "    temporal=(start_time,end_time)\n",
    ")"
   ]
  },
  {
   "cell_type": "markdown",
   "id": "74af5788-682e-449b-a47d-3383163f16dc",
   "metadata": {},
   "source": [
    "### Obtain S3 URLs for found granules, then aggregate"
   ]
  },
  {
   "cell_type": "code",
   "execution_count": 18,
   "id": "dd07afa0-387a-406a-9c3f-6105b772591c",
   "metadata": {},
   "outputs": [
    {
     "data": {
      "text/plain": [
       "['s3://gesdisc-cumulus-prod-protected/OCO2_DATA/OCO2_L2_Lite_FP.11.1r/2020/oco2_LtCO2_200704_B11100Ar_230603215457s.nc4',\n",
       " 's3://gesdisc-cumulus-prod-protected/OCO2_DATA/OCO2_L2_Lite_FP.11.1r/2020/oco2_LtCO2_200705_B11100Ar_230603215543s.nc4',\n",
       " 's3://gesdisc-cumulus-prod-protected/OCO2_DATA/OCO2_L2_Lite_FP.11.1r/2020/oco2_LtCO2_200706_B11100Ar_230603215547s.nc4',\n",
       " 's3://gesdisc-cumulus-prod-protected/OCO2_DATA/OCO2_L2_Lite_FP.11.1r/2020/oco2_LtCO2_200707_B11100Ar_230603215704s.nc4']"
      ]
     },
     "execution_count": 18,
     "metadata": {},
     "output_type": "execute_result"
    }
   ],
   "source": [
    "s3_urls = [granule.data_links(access=\"direct\")[0] for granule in results]\n",
    "s3_urls"
   ]
  },
  {
   "cell_type": "markdown",
   "id": "e117d65b-2a1f-4d99-ac80-c5786b02aae9",
   "metadata": {},
   "source": [
    "## Open granules using `earthaccess` and `xarray`"
   ]
  },
  {
   "cell_type": "code",
   "execution_count": 23,
   "id": "ba6f92a8-f494-4ea2-8f89-ec7ce14e6a59",
   "metadata": {},
   "outputs": [
    {
     "data": {
      "application/vnd.jupyter.widget-view+json": {
       "model_id": "f6aeb4ff05b54887ae2011247bac27ee",
       "version_major": 2,
       "version_minor": 0
      },
      "text/plain": [
       "QUEUEING TASKS | :   0%|          | 0/4 [00:00<?, ?it/s]"
      ]
     },
     "metadata": {},
     "output_type": "display_data"
    },
    {
     "data": {
      "application/vnd.jupyter.widget-view+json": {
       "model_id": "eceb7ab76e9944bc81387a10e31057b6",
       "version_major": 2,
       "version_minor": 0
      },
      "text/plain": [
       "PROCESSING TASKS | :   0%|          | 0/4 [00:00<?, ?it/s]"
      ]
     },
     "metadata": {},
     "output_type": "display_data"
    },
    {
     "data": {
      "application/vnd.jupyter.widget-view+json": {
       "model_id": "5b795f3d437043a49e90e1aa8b2276bc",
       "version_major": 2,
       "version_minor": 0
      },
      "text/plain": [
       "COLLECTING RESULTS | :   0%|          | 0/4 [00:00<?, ?it/s]"
      ]
     },
     "metadata": {},
     "output_type": "display_data"
    }
   ],
   "source": [
    "file_handlers = earthaccess.open(results)\n",
    "ds = xr.open_dataset(file_handlers[0], decode_coords=\"all\")"
   ]
  },
  {
   "cell_type": "code",
   "execution_count": 29,
   "id": "697c73d7-0878-4296-996d-26990b3a839e",
   "metadata": {},
   "outputs": [],
   "source": [
    "sdg = ds.sounding_id.values[:]\n",
    "lat = ds.latitude.values[:]\n",
    "lon = ds.longitude.values[:]\n",
    "xco2 = ds.xco2.values[:]\n",
    "flg = ds.xco2_quality_flag[:]\n",
    "\n",
    "dfr = pd.DataFrame({'SoundingID': sdg, \n",
    "                          'Latitude': lat, 'Longitude': lon, 'XCO2': xco2, 'V11QFlag': flg})\n",
    "dfr['Sdg10s'] = np.floor(dfr['SoundingID'] / 1.0e3)\n",
    "dfr = dfr[dfr['V11QFlag'] == 0]"
   ]
  },
  {
   "cell_type": "code",
   "execution_count": 30,
   "id": "87dea9cf-5f31-4184-98f9-3e5125b78d01",
   "metadata": {},
   "outputs": [
    {
     "data": {
      "text/html": [
       "<div>\n",
       "<style scoped>\n",
       "    .dataframe tbody tr th:only-of-type {\n",
       "        vertical-align: middle;\n",
       "    }\n",
       "\n",
       "    .dataframe tbody tr th {\n",
       "        vertical-align: top;\n",
       "    }\n",
       "\n",
       "    .dataframe thead th {\n",
       "        text-align: right;\n",
       "    }\n",
       "</style>\n",
       "<table border=\"1\" class=\"dataframe\">\n",
       "  <thead>\n",
       "    <tr style=\"text-align: right;\">\n",
       "      <th></th>\n",
       "      <th>SoundingID</th>\n",
       "      <th>Latitude</th>\n",
       "      <th>Longitude</th>\n",
       "      <th>XCO2</th>\n",
       "      <th>V11QFlag</th>\n",
       "      <th>Sdg10s</th>\n",
       "    </tr>\n",
       "  </thead>\n",
       "  <tbody>\n",
       "    <tr>\n",
       "      <th>34</th>\n",
       "      <td>2.020070e+15</td>\n",
       "      <td>-38.344372</td>\n",
       "      <td>-152.270706</td>\n",
       "      <td>411.636200</td>\n",
       "      <td>0.0</td>\n",
       "      <td>2.020070e+12</td>\n",
       "    </tr>\n",
       "    <tr>\n",
       "      <th>68</th>\n",
       "      <td>2.020070e+15</td>\n",
       "      <td>-36.668865</td>\n",
       "      <td>-152.755554</td>\n",
       "      <td>412.651978</td>\n",
       "      <td>0.0</td>\n",
       "      <td>2.020070e+12</td>\n",
       "    </tr>\n",
       "    <tr>\n",
       "      <th>92</th>\n",
       "      <td>2.020070e+15</td>\n",
       "      <td>-34.615337</td>\n",
       "      <td>-153.267776</td>\n",
       "      <td>410.651947</td>\n",
       "      <td>0.0</td>\n",
       "      <td>2.020070e+12</td>\n",
       "    </tr>\n",
       "    <tr>\n",
       "      <th>93</th>\n",
       "      <td>2.020070e+15</td>\n",
       "      <td>-34.608753</td>\n",
       "      <td>-153.290451</td>\n",
       "      <td>410.464233</td>\n",
       "      <td>0.0</td>\n",
       "      <td>2.020070e+12</td>\n",
       "    </tr>\n",
       "    <tr>\n",
       "      <th>100</th>\n",
       "      <td>2.020070e+15</td>\n",
       "      <td>-34.598209</td>\n",
       "      <td>-153.208237</td>\n",
       "      <td>411.708344</td>\n",
       "      <td>0.0</td>\n",
       "      <td>2.020070e+12</td>\n",
       "    </tr>\n",
       "    <tr>\n",
       "      <th>...</th>\n",
       "      <td>...</td>\n",
       "      <td>...</td>\n",
       "      <td>...</td>\n",
       "      <td>...</td>\n",
       "      <td>...</td>\n",
       "      <td>...</td>\n",
       "    </tr>\n",
       "    <tr>\n",
       "      <th>158269</th>\n",
       "      <td>2.020070e+15</td>\n",
       "      <td>78.992409</td>\n",
       "      <td>97.174576</td>\n",
       "      <td>412.261169</td>\n",
       "      <td>0.0</td>\n",
       "      <td>2.020070e+12</td>\n",
       "    </tr>\n",
       "    <tr>\n",
       "      <th>158271</th>\n",
       "      <td>2.020070e+15</td>\n",
       "      <td>79.022301</td>\n",
       "      <td>97.301666</td>\n",
       "      <td>413.505554</td>\n",
       "      <td>0.0</td>\n",
       "      <td>2.020070e+12</td>\n",
       "    </tr>\n",
       "    <tr>\n",
       "      <th>158274</th>\n",
       "      <td>2.020070e+15</td>\n",
       "      <td>78.985771</td>\n",
       "      <td>97.089539</td>\n",
       "      <td>410.017120</td>\n",
       "      <td>0.0</td>\n",
       "      <td>2.020070e+12</td>\n",
       "    </tr>\n",
       "    <tr>\n",
       "      <th>158282</th>\n",
       "      <td>2.020070e+15</td>\n",
       "      <td>79.002426</td>\n",
       "      <td>97.048065</td>\n",
       "      <td>410.701630</td>\n",
       "      <td>0.0</td>\n",
       "      <td>2.020070e+12</td>\n",
       "    </tr>\n",
       "    <tr>\n",
       "      <th>158283</th>\n",
       "      <td>2.020070e+15</td>\n",
       "      <td>79.017387</td>\n",
       "      <td>97.113426</td>\n",
       "      <td>411.314636</td>\n",
       "      <td>0.0</td>\n",
       "      <td>2.020070e+12</td>\n",
       "    </tr>\n",
       "  </tbody>\n",
       "</table>\n",
       "<p>91004 rows × 6 columns</p>\n",
       "</div>"
      ],
      "text/plain": [
       "          SoundingID   Latitude   Longitude        XCO2  V11QFlag  \\\n",
       "34      2.020070e+15 -38.344372 -152.270706  411.636200       0.0   \n",
       "68      2.020070e+15 -36.668865 -152.755554  412.651978       0.0   \n",
       "92      2.020070e+15 -34.615337 -153.267776  410.651947       0.0   \n",
       "93      2.020070e+15 -34.608753 -153.290451  410.464233       0.0   \n",
       "100     2.020070e+15 -34.598209 -153.208237  411.708344       0.0   \n",
       "...              ...        ...         ...         ...       ...   \n",
       "158269  2.020070e+15  78.992409   97.174576  412.261169       0.0   \n",
       "158271  2.020070e+15  79.022301   97.301666  413.505554       0.0   \n",
       "158274  2.020070e+15  78.985771   97.089539  410.017120       0.0   \n",
       "158282  2.020070e+15  79.002426   97.048065  410.701630       0.0   \n",
       "158283  2.020070e+15  79.017387   97.113426  411.314636       0.0   \n",
       "\n",
       "              Sdg10s  \n",
       "34      2.020070e+12  \n",
       "68      2.020070e+12  \n",
       "92      2.020070e+12  \n",
       "93      2.020070e+12  \n",
       "100     2.020070e+12  \n",
       "...              ...  \n",
       "158269  2.020070e+12  \n",
       "158271  2.020070e+12  \n",
       "158274  2.020070e+12  \n",
       "158282  2.020070e+12  \n",
       "158283  2.020070e+12  \n",
       "\n",
       "[91004 rows x 6 columns]"
      ]
     },
     "execution_count": 30,
     "metadata": {},
     "output_type": "execute_result"
    }
   ],
   "source": [
    "dfr"
   ]
  },
  {
   "cell_type": "code",
   "execution_count": 32,
   "id": "9daebe3e-fa58-4012-9f6b-c682a804cdfe",
   "metadata": {},
   "outputs": [],
   "source": [
    "### Group and summarize"
   ]
  },
  {
   "cell_type": "code",
   "execution_count": null,
   "id": "f8ae1683-b588-484c-b6b2-f13025e2a863",
   "metadata": {},
   "outputs": [],
   "source": [
    "def qsummary(df,grpvr,vrlst):\n",
    "    # Summarize with quantiles\n",
    "    nmtch = df.shape[0] \n",
    "    dfout = pd.DataFrame({'NSmp' : nmtch}, index=[0])\n",
    "    #dfout[grpvr] = df[grpvr].values[0]\n",
    "    for j in range(len(vrlst)):\n",
    "        tmpdt = df[vrlst[j]]\n",
    "        dtvld = tmpdt[np.isfinite(tmpdt)]\n",
    "        dtvld = dtvld[dtvld != 0.0]\n",
    "        vrnm = '%s_Med' % (vrlst[j])\n",
    "        dfout[vrnm] = np.median(dtvld)\n",
    "\n",
    "    return dfout"
   ]
  },
  {
   "cell_type": "code",
   "execution_count": 34,
   "id": "5bb2454e-93bb-4cfb-87ba-310f7c9a19c6",
   "metadata": {},
   "outputs": [],
   "source": [
    "grpoco = dfr.groupby(['Sdg10s'])\n",
    "ocoqs = grpoco.apply(qsummary,grpvr='Sdg10s',vrlst=['XCO2','Latitude','Longitude'])#,include_groups=False)\n",
    "ocoqs.reset_index(drop=False,inplace=True)"
   ]
  },
  {
   "cell_type": "code",
   "execution_count": 35,
   "id": "26017d01-a240-4b5b-93c5-0f5e95a9cf70",
   "metadata": {},
   "outputs": [],
   "source": [
    "ocoqs = ocoqs[ocoqs['NSmp'] > 30]"
   ]
  },
  {
   "cell_type": "code",
   "execution_count": 36,
   "id": "18a66aad-5561-40b8-be30-15fb9d285fba",
   "metadata": {},
   "outputs": [
    {
     "data": {
      "image/png": "[encoded data removed]",
      "text/plain": [
       "<Figure size 640x480 with 1 Axes>"
      ]
     },
     "metadata": {},
     "output_type": "display_data"
    }
   ],
   "source": [
    "# Plotting, mapping libraries\n",
    "\n",
    "import cartopy.crs as ccrs\n",
    "import cartopy.feature as cfeature\n",
    "import matplotlib.pyplot as plt\n",
    "\n",
    "%matplotlib inline\n",
    "trnsfrm = ccrs.PlateCarree()\n",
    "\n",
    "# Set up figure\n",
    "fig = plt.figure()\n",
    "\n",
    "pmp = fig.add_subplot(1,1,1, projection=ccrs.Robinson())\n",
    "cs = plt.scatter(ocoqs['Longitude_Med'],ocoqs['Latitude_Med'],s=3, c=ocoqs['XCO2_Med'], transform = trnsfrm)\n",
    "#cs = pyplot.pcolormesh(lnarr,ltarr,ctarr[j,:,:],vmin=0,vmax=6000,transform = trnsfrm,cmap=cmpvic)\n",
    "pmp.coastlines(color='#777777',linewidth=0.5)\n",
    "pmp.scatter([-180,180,0,0],[0,0,-90,90],s=0.01,c=None,transform=trnsfrm)\n",
    "plt.show()"
   ]
  },
  {
   "cell_type": "code",
   "execution_count": null,
   "id": "a7ce1a77-3671-44d6-bacb-96057177de32",
   "metadata": {},
   "outputs": [],
   "source": []
  }
 ],
 "metadata": {
  "kernelspec": {
   "display_name": "Python 3 (ipykernel)",
   "language": "python",
   "name": "python3"
  },
  "language_info": {
   "codemirror_mode": {
    "name": "ipython",
    "version": 3
   },
   "file_extension": ".py",
   "mimetype": "text/x-python",
   "name": "python",
   "nbconvert_exporter": "python",
   "pygments_lexer": "ipython3",
   "version": "3.12.10"
  }
 },
 "nbformat": 4,
 "nbformat_minor": 5
}
